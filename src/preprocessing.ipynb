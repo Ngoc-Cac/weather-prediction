{
 "cells": [
  {
   "cell_type": "markdown",
   "id": "5f9aa8e6",
   "metadata": {},
   "source": [
    "# **Pre-processing**\n",
    "\n",
    "---"
   ]
  },
  {
   "cell_type": "markdown",
   "id": "b8378006",
   "metadata": {},
   "source": [
    "## **Import Libraries & Data Loading**"
   ]
  },
  {
   "cell_type": "code",
   "execution_count": 40,
   "id": "cf4e0807",
   "metadata": {},
   "outputs": [],
   "source": [
    "import os.path as osp\n",
    "\n",
    "import pandas as pd\n",
    "\n",
    "data_folder = osp.join('..', 'resource', 'dataset')"
   ]
  },
  {
   "cell_type": "code",
   "execution_count": 41,
   "id": "2828ca9d",
   "metadata": {},
   "outputs": [],
   "source": [
    "metadata = pd.read_csv(osp.join(data_folder, 'metadata.csv'))\n",
    "metadata = metadata[metadata['attributes'] != 'weather_description']\n",
    "\n",
    "city_attri_df = pd.read_csv(osp.join(data_folder, 'raw', 'city_attributes.csv'))\n",
    "feature_dfs = {\n",
    "    attribute: pd.read_csv(f'{data_folder}/raw/{attribute}.csv')\n",
    "    for attribute in metadata['attributes']\n",
    "}"
   ]
  },
  {
   "cell_type": "code",
   "execution_count": 42,
   "id": "290e771d",
   "metadata": {},
   "outputs": [],
   "source": [
    "def preprocess_features(\n",
    "    feature_df: pd.DataFrame\n",
    ") -> pd.DataFrame:\n",
    "    # date & time\n",
    "    feature_df = feature_df.copy(True)\n",
    "    feature_df['datetime'] = pd.to_datetime(feature_df['datetime'])\n",
    "    feature_df['date'] = feature_df['datetime'].dt.date\n",
    "\n",
    "    feature_df.drop(columns=['datetime'], inplace=True)\n",
    "\n",
    "    # fill missing values with forward fill\n",
    "    feature_df.drop(0, axis=0, inplace=True)\n",
    "    feature_df.ffill(inplace=True)\n",
    "\n",
    "\n",
    "    # aggregate by date and take mean\n",
    "    return (feature_df\n",
    "        .groupby(feature_df['date'])\n",
    "        .mean(numeric_only=True)\n",
    "        .reset_index()\n",
    "    )"
   ]
  },
  {
   "cell_type": "markdown",
   "id": "23219ac4",
   "metadata": {},
   "source": [
    "## **Preprocess data**"
   ]
  },
  {
   "cell_type": "code",
   "execution_count": 43,
   "id": "8f11f380",
   "metadata": {},
   "outputs": [],
   "source": [
    "for attribute, df in feature_dfs.items():\n",
    "    feature_dfs[attribute] = preprocess_features(df)"
   ]
  },
  {
   "cell_type": "code",
   "execution_count": 44,
   "id": "bb6ce4a0",
   "metadata": {},
   "outputs": [
    {
     "data": {
      "text/html": [
       "<div>\n",
       "<style scoped>\n",
       "    .dataframe tbody tr th:only-of-type {\n",
       "        vertical-align: middle;\n",
       "    }\n",
       "\n",
       "    .dataframe tbody tr th {\n",
       "        vertical-align: top;\n",
       "    }\n",
       "\n",
       "    .dataframe thead th {\n",
       "        text-align: right;\n",
       "    }\n",
       "</style>\n",
       "<table border=\"1\" class=\"dataframe\">\n",
       "  <thead>\n",
       "    <tr style=\"text-align: right;\">\n",
       "      <th></th>\n",
       "      <th>humidity</th>\n",
       "      <th>pressure</th>\n",
       "      <th>temperature</th>\n",
       "      <th>wind_direction</th>\n",
       "      <th>wind_speed</th>\n",
       "    </tr>\n",
       "  </thead>\n",
       "  <tbody>\n",
       "    <tr>\n",
       "      <th>Null Values</th>\n",
       "      <td>0</td>\n",
       "      <td>1</td>\n",
       "      <td>0</td>\n",
       "      <td>0</td>\n",
       "      <td>0</td>\n",
       "    </tr>\n",
       "  </tbody>\n",
       "</table>\n",
       "</div>"
      ],
      "text/plain": [
       "             humidity  pressure  temperature  wind_direction  wind_speed\n",
       "Null Values         0         1            0               0           0"
      ]
     },
     "execution_count": 44,
     "metadata": {},
     "output_type": "execute_result"
    }
   ],
   "source": [
    "pd.DataFrame({\n",
    "    attribute: df.isna().to_numpy().sum()\n",
    "    for attribute, df in feature_dfs.items()\n",
    "}, index=['Null Values'])"
   ]
  },
  {
   "cell_type": "markdown",
   "id": "cedbe973",
   "metadata": {},
   "source": [
    "## **Save preprocessed data**"
   ]
  },
  {
   "cell_type": "code",
   "execution_count": null,
   "id": "34eac7e2",
   "metadata": {},
   "outputs": [],
   "source": [
    "for attribute, df in feature_dfs.items():\n",
    "    df.to_csv(osp.join(data_folder, 'preprocessed', f'{attribute}.csv'), index=False)"
   ]
  }
 ],
 "metadata": {
  "kernelspec": {
   "display_name": ".hpc_venv",
   "language": "python",
   "name": "python3"
  },
  "language_info": {
   "codemirror_mode": {
    "name": "ipython",
    "version": 3
   },
   "file_extension": ".py",
   "mimetype": "text/x-python",
   "name": "python",
   "nbconvert_exporter": "python",
   "pygments_lexer": "ipython3",
   "version": "3.13.2"
  }
 },
 "nbformat": 4,
 "nbformat_minor": 5
}
