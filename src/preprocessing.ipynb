{
 "cells": [
  {
   "cell_type": "markdown",
   "id": "5f9aa8e6",
   "metadata": {},
   "source": [
    "# **Pre-processing**\n",
    "\n",
    "---"
   ]
  },
  {
   "cell_type": "markdown",
   "id": "b8378006",
   "metadata": {},
   "source": [
    "## **Import Libraries & Data Loading**"
   ]
  },
  {
   "cell_type": "code",
   "execution_count": 3,
   "id": "cf4e0807",
   "metadata": {},
   "outputs": [],
   "source": [
    "import os.path as osp\n",
    "\n",
    "import pandas as pd\n",
    "\n",
    "data_folder = osp.join('..', 'resource', 'dataset')"
   ]
  },
  {
   "cell_type": "code",
   "execution_count": 4,
   "id": "2828ca9d",
   "metadata": {},
   "outputs": [],
   "source": [
    "metadata = pd.read_csv(osp.join(data_folder, 'metadata.csv'))\n",
    "metadata = metadata[metadata['attributes'] != 'weather_description']\n",
    "\n",
    "city_attri_df = pd.read_csv(osp.join(data_folder, 'raw', 'city_attributes.csv'))\n",
    "feature_dfs = {\n",
    "    attribute: pd.read_csv(f'{data_folder}/raw/{attribute}.csv')\n",
    "    for attribute in metadata['attributes']\n",
    "}"
   ]
  },
  {
   "cell_type": "code",
   "execution_count": null,
   "id": "290e771d",
   "metadata": {},
   "outputs": [],
   "source": [
    "def preprocess_features(\n",
    "    feature_df: pd.DataFrame\n",
    ") -> pd.DataFrame:\n",
    "    # date & time\n",
    "    feature_df = feature_df.copy(True)\n",
    "    feature_df['datetime'] = pd.to_datetime(feature_df['datetime'])\n",
    "    feature_df['date'] = feature_df['datetime'].dt.date\n",
    "\n",
    "    feature_df.drop(columns=['datetime'], inplace=True)\n",
    "\n",
    "    # fill missing values with forward fill\n",
    "    feature_df.drop(0, axis=0, inplace=True)\n",
    "    feature_df.ffill(inplace=True)\n",
    "\n",
    "    # remove date 2012-10-01\n",
    "    feature_df = feature_df[feature_df['date'] != pd.to_datetime(\"2012-10-01\").date()]\n",
    "\n",
    "    # aggregate by date and take mean\n",
    "    return (feature_df\n",
    "        .groupby(feature_df['date'])\n",
    "        .mean(numeric_only=True)\n",
    "        .reset_index()\n",
    "    )"
   ]
  },
  {
   "cell_type": "markdown",
   "id": "23219ac4",
   "metadata": {},
   "source": [
    "## **Preprocess data**"
   ]
  },
  {
   "cell_type": "code",
   "execution_count": 6,
   "id": "8f11f380",
   "metadata": {},
   "outputs": [],
   "source": [
    "for attribute, df in feature_dfs.items():\n",
    "    feature_dfs[attribute] = preprocess_features(df)"
   ]
  },
  {
   "cell_type": "code",
   "execution_count": 7,
   "id": "bb6ce4a0",
   "metadata": {},
   "outputs": [
    {
     "data": {
      "application/vnd.microsoft.datawrangler.viewer.v0+json": {
       "columns": [
        {
         "name": "index",
         "rawType": "object",
         "type": "string"
        },
        {
         "name": "humidity",
         "rawType": "int32",
         "type": "integer"
        },
        {
         "name": "pressure",
         "rawType": "int32",
         "type": "integer"
        },
        {
         "name": "temperature",
         "rawType": "int32",
         "type": "integer"
        },
        {
         "name": "wind_direction",
         "rawType": "int32",
         "type": "integer"
        },
        {
         "name": "wind_speed",
         "rawType": "int32",
         "type": "integer"
        }
       ],
       "conversionMethod": "pd.DataFrame",
       "ref": "0c2a9f6d-3bea-4c61-b545-b51da4c123ba",
       "rows": [
        [
         "Null Values",
         "0",
         "0",
         "0",
         "0",
         "0"
        ]
       ],
       "shape": {
        "columns": 5,
        "rows": 1
       }
      },
      "text/html": [
       "<div>\n",
       "<style scoped>\n",
       "    .dataframe tbody tr th:only-of-type {\n",
       "        vertical-align: middle;\n",
       "    }\n",
       "\n",
       "    .dataframe tbody tr th {\n",
       "        vertical-align: top;\n",
       "    }\n",
       "\n",
       "    .dataframe thead th {\n",
       "        text-align: right;\n",
       "    }\n",
       "</style>\n",
       "<table border=\"1\" class=\"dataframe\">\n",
       "  <thead>\n",
       "    <tr style=\"text-align: right;\">\n",
       "      <th></th>\n",
       "      <th>humidity</th>\n",
       "      <th>pressure</th>\n",
       "      <th>temperature</th>\n",
       "      <th>wind_direction</th>\n",
       "      <th>wind_speed</th>\n",
       "    </tr>\n",
       "  </thead>\n",
       "  <tbody>\n",
       "    <tr>\n",
       "      <th>Null Values</th>\n",
       "      <td>0</td>\n",
       "      <td>0</td>\n",
       "      <td>0</td>\n",
       "      <td>0</td>\n",
       "      <td>0</td>\n",
       "    </tr>\n",
       "  </tbody>\n",
       "</table>\n",
       "</div>"
      ],
      "text/plain": [
       "             humidity  pressure  temperature  wind_direction  wind_speed\n",
       "Null Values         0         0            0               0           0"
      ]
     },
     "execution_count": 7,
     "metadata": {},
     "output_type": "execute_result"
    }
   ],
   "source": [
    "pd.DataFrame({\n",
    "    attribute: df.isna().to_numpy().sum()\n",
    "    for attribute, df in feature_dfs.items()\n",
    "}, index=['Null Values'])"
   ]
  },
  {
   "cell_type": "markdown",
   "id": "cedbe973",
   "metadata": {},
   "source": [
    "## **Save preprocessed data**"
   ]
  },
  {
   "cell_type": "code",
   "execution_count": 8,
   "id": "34eac7e2",
   "metadata": {},
   "outputs": [],
   "source": [
    "for attribute, df in feature_dfs.items():\n",
    "    df.to_csv(osp.join(data_folder, 'preprocessed', f'{attribute}.csv'), index=False)"
   ]
  }
 ],
 "metadata": {
  "kernelspec": {
   "display_name": "Python 3",
   "language": "python",
   "name": "python3"
  },
  "language_info": {
   "codemirror_mode": {
    "name": "ipython",
    "version": 3
   },
   "file_extension": ".py",
   "mimetype": "text/x-python",
   "name": "python",
   "nbconvert_exporter": "python",
   "pygments_lexer": "ipython3",
   "version": "3.11.8"
  }
 },
 "nbformat": 4,
 "nbformat_minor": 5
}
