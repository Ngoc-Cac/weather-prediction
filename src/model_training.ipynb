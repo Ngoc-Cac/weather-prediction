{
  "cells": [
    {
      "cell_type": "code",
      "execution_count": null,
      "id": "b4c1b1ae",
      "metadata": {
        "id": "b4c1b1ae"
      },
      "outputs": [],
      "source": [
        "import pandas as pd\n",
        "import torch\n",
        "\n",
        "from sklearn.model_selection import train_test_split\n",
        "from torch.utils.data import Subset, DataLoader\n",
        "\n",
        "from utils.loops import train_loop, eval_loop\n",
        "from utils.lstm import LSTMRegressor\n",
        "from utils.weather_dataset import WeatherDataset\n",
        "\n",
        "random_state = 4\n",
        "data_folder = '../resource/dataset'\n",
        "batch_size = 32"
      ]
    },
    {
      "cell_type": "markdown",
      "id": "88b1c4b9",
      "metadata": {
        "id": "88b1c4b9"
      },
      "source": [
        "# Load dataset"
      ]
    },
    {
      "cell_type": "code",
      "execution_count": 3,
      "id": "110cf855",
      "metadata": {
        "id": "110cf855"
      },
      "outputs": [],
      "source": [
        "metadata = pd.read_csv(f'{data_folder}/metadata.csv')\n",
        "metadata = metadata[metadata['attributes'] != 'weather_description']\n",
        "city_coords = pd.read_csv(f'{data_folder}/raw/city_attributes.csv')\n",
        "\n",
        "dfs = {\n",
        "    attribute: pd.read_csv(f'{data_folder}/preprocessed/{attribute}.csv', index_col=0)\n",
        "    for attribute in metadata['attributes']\n",
        "}\n",
        "\n",
        "city_coords = (city_coords\n",
        "    .set_index('City')\n",
        "    .loc[dfs['humidity']\n",
        "    .columns][['Latitude', 'Longitude']]\n",
        ")\n",
        "\n",
        "dataset = WeatherDataset(7, city_coords, *dfs.values())"
      ]
    },
    {
      "cell_type": "markdown",
      "id": "8db8fe74",
      "metadata": {
        "id": "8db8fe74"
      },
      "source": [
        "Train-test Split"
      ]
    },
    {
      "cell_type": "code",
      "execution_count": 4,
      "id": "1960114d",
      "metadata": {
        "id": "1960114d"
      },
      "outputs": [],
      "source": [
        "train_idx, test_idx = train_test_split(\n",
        "    range(len(dataset)),\n",
        "    test_size=.2, random_state=random_state\n",
        ")\n",
        "train_set = Subset(dataset, train_idx)\n",
        "test_set = Subset(dataset, test_idx)"
      ]
    },
    {
      "cell_type": "markdown",
      "id": "884dfc70",
      "metadata": {
        "id": "884dfc70"
      },
      "source": [
        "# Load model"
      ]
    },
    {
      "cell_type": "code",
      "execution_count": 5,
      "id": "f2aef479",
      "metadata": {
        "id": "f2aef479"
      },
      "outputs": [],
      "source": [
        "def run_epochs(\n",
        "    epochs,\n",
        "    model, loss_fn,\n",
        "    optimizer,\n",
        "    train_loader,\n",
        "    test_loader,\n",
        "    use_gpu: bool = False,\n",
        "):\n",
        "    loss = {\n",
        "        'train': [],\n",
        "        'eval': []\n",
        "    }\n",
        "    for epoch in range(epochs):\n",
        "        print(f\"Epoch {epoch}:\")\n",
        "        train_loss = train_loop(\n",
        "            model, loss_fn, optimizer, train_loader, use_gpu\n",
        "        )\n",
        "        print(f\"  Train loss: {sum(train_loss) / len(train_loss):<.8f} || \", end='')\n",
        "\n",
        "        eval_loss = eval_loop(\n",
        "            model, loss_fn, test_loader, use_gpu\n",
        "        )\n",
        "        print(f\"Eval loss: {sum(eval_loss) / len(eval_loss)}\")\n",
        "\n",
        "        loss['train'].append(train_loss)\n",
        "        loss['eval'].append(eval_loss)\n",
        "\n",
        "    return loss"
      ]
    },
    {
      "cell_type": "code",
      "execution_count": 6,
      "id": "d6771888",
      "metadata": {
        "id": "d6771888"
      },
      "outputs": [],
      "source": [
        "train_loader = DataLoader(train_set, batch_size, shuffle=True)\n",
        "test_loader = DataLoader(test_set, batch_size, shuffle=True)"
      ]
    },
    {
      "cell_type": "code",
      "execution_count": 15,
      "id": "2741bb8c",
      "metadata": {
        "id": "2741bb8c"
      },
      "outputs": [],
      "source": [
        "lstm_regressor = LSTMRegressor(\n",
        "    dataset[0][0].shape[1],\n",
        "    num_layers=4, hidden_size=512,\n",
        "    fc_hidden_dims=(512, 512),\n",
        ")\n",
        "if torch.cuda.is_available():\n",
        "    lstm_regressor.cuda()\n",
        "\n",
        "mse_loss = torch.nn.MSELoss()\n",
        "adam_opt = torch.optim.Adam(lstm_regressor.parameters(), 1e-5)"
      ]
    },
    {
      "cell_type": "markdown",
      "id": "72cff039",
      "metadata": {
        "id": "72cff039"
      },
      "source": [
        "# Train loop"
      ]
    },
    {
      "cell_type": "code",
      "execution_count": 16,
      "id": "af129fe5",
      "metadata": {
        "id": "af129fe5"
      },
      "outputs": [],
      "source": [
        "global_loss = {\n",
        "    'train': [],\n",
        "    'eval': []\n",
        "}"
      ]
    },
    {
      "cell_type": "code",
      "execution_count": 22,
      "id": "15807bbe",
      "metadata": {
        "colab": {
          "base_uri": "https://localhost:8080/"
        },
        "id": "15807bbe",
        "outputId": "bfe07443-6123-43cc-970e-a5e3f34d41fc"
      },
      "outputs": [
        {
          "name": "stdout",
          "output_type": "stream",
          "text": [
            "Epoch 0:\n"
          ]
        },
        {
          "name": "stderr",
          "output_type": "stream",
          "text": [
            "100%|██████████| 1692/1692 [00:17<00:00, 98.48it/s, Loss: 2949.937744140625] \n"
          ]
        },
        {
          "name": "stdout",
          "output_type": "stream",
          "text": [
            "  Train loss: 636.36252527 || Eval loss: 765.0660775547614\n",
            "Epoch 1:\n"
          ]
        },
        {
          "name": "stderr",
          "output_type": "stream",
          "text": [
            "100%|██████████| 1692/1692 [00:16<00:00, 100.24it/s, Loss: 771.7061767578125]\n"
          ]
        },
        {
          "name": "stdout",
          "output_type": "stream",
          "text": [
            "  Train loss: 638.05235300 || Eval loss: 705.6442851614445\n",
            "Epoch 2:\n"
          ]
        },
        {
          "name": "stderr",
          "output_type": "stream",
          "text": [
            "100%|██████████| 1692/1692 [00:17<00:00, 96.89it/s, Loss: 2828.299072265625] \n"
          ]
        },
        {
          "name": "stdout",
          "output_type": "stream",
          "text": [
            "  Train loss: 631.73314932 || Eval loss: 803.0047300803183\n",
            "Epoch 3:\n"
          ]
        },
        {
          "name": "stderr",
          "output_type": "stream",
          "text": [
            "100%|██████████| 1692/1692 [00:16<00:00, 100.31it/s, Loss: 1072.1849365234375]\n"
          ]
        },
        {
          "name": "stdout",
          "output_type": "stream",
          "text": [
            "  Train loss: 658.99210932 || Eval loss: 674.3899691967254\n",
            "Epoch 4:\n"
          ]
        },
        {
          "name": "stderr",
          "output_type": "stream",
          "text": [
            "100%|██████████| 1692/1692 [00:16<00:00, 99.66it/s, Loss: 695.0909423828125]\n"
          ]
        },
        {
          "name": "stdout",
          "output_type": "stream",
          "text": [
            "  Train loss: 628.75435530 || Eval loss: 833.0088401415669\n",
            "Epoch 5:\n"
          ]
        },
        {
          "name": "stderr",
          "output_type": "stream",
          "text": [
            "100%|██████████| 1692/1692 [00:17<00:00, 98.50it/s, Loss: 2992.359130859375] \n"
          ]
        },
        {
          "name": "stdout",
          "output_type": "stream",
          "text": [
            "  Train loss: 629.62409819 || Eval loss: 691.5140802910987\n",
            "Epoch 6:\n"
          ]
        },
        {
          "name": "stderr",
          "output_type": "stream",
          "text": [
            "100%|██████████| 1692/1692 [00:16<00:00, 101.01it/s, Loss: 1326.6136474609375]\n"
          ]
        },
        {
          "name": "stdout",
          "output_type": "stream",
          "text": [
            "  Train loss: 630.75445367 || Eval loss: 670.3159794367797\n",
            "Epoch 7:\n"
          ]
        },
        {
          "name": "stderr",
          "output_type": "stream",
          "text": [
            "100%|██████████| 1692/1692 [00:17<00:00, 95.18it/s, Loss: 469.2513122558594]\n"
          ]
        },
        {
          "name": "stdout",
          "output_type": "stream",
          "text": [
            "  Train loss: 624.04231172 || Eval loss: 720.7354858975602\n",
            "Epoch 8:\n"
          ]
        },
        {
          "name": "stderr",
          "output_type": "stream",
          "text": [
            "100%|██████████| 1692/1692 [00:16<00:00, 100.12it/s, Loss: 234.0074920654297]\n"
          ]
        },
        {
          "name": "stdout",
          "output_type": "stream",
          "text": [
            "  Train loss: 624.28462853 || Eval loss: 792.5647790787068\n",
            "Epoch 9:\n"
          ]
        },
        {
          "name": "stderr",
          "output_type": "stream",
          "text": [
            "100%|██████████| 1692/1692 [00:17<00:00, 99.38it/s, Loss: 737.0488891601562] \n"
          ]
        },
        {
          "name": "stdout",
          "output_type": "stream",
          "text": [
            "  Train loss: 623.34079796 || Eval loss: 663.8560336498504\n",
            "Epoch 10:\n"
          ]
        },
        {
          "name": "stderr",
          "output_type": "stream",
          "text": [
            "100%|██████████| 1692/1692 [00:17<00:00, 95.12it/s, Loss: 1068.6231689453125]\n"
          ]
        },
        {
          "name": "stdout",
          "output_type": "stream",
          "text": [
            "  Train loss: 622.85737971 || Eval loss: 668.9618581496795\n",
            "Epoch 11:\n"
          ]
        },
        {
          "name": "stderr",
          "output_type": "stream",
          "text": [
            "100%|██████████| 1692/1692 [00:16<00:00, 100.40it/s, Loss: 1956.448486328125]\n"
          ]
        },
        {
          "name": "stdout",
          "output_type": "stream",
          "text": [
            "  Train loss: 623.59775266 || Eval loss: 956.9774315655936\n",
            "Epoch 12:\n"
          ]
        },
        {
          "name": "stderr",
          "output_type": "stream",
          "text": [
            "100%|██████████| 1692/1692 [00:16<00:00, 99.83it/s, Loss: 544.4341430664062] \n"
          ]
        },
        {
          "name": "stdout",
          "output_type": "stream",
          "text": [
            "  Train loss: 620.43433844 || Eval loss: 722.6875580050421\n",
            "Epoch 13:\n"
          ]
        },
        {
          "name": "stderr",
          "output_type": "stream",
          "text": [
            "100%|██████████| 1692/1692 [00:17<00:00, 96.61it/s, Loss: 3932.06005859375] \n"
          ]
        },
        {
          "name": "stdout",
          "output_type": "stream",
          "text": [
            "  Train loss: 619.17381184 || Eval loss: 749.457219405659\n",
            "Epoch 14:\n"
          ]
        },
        {
          "name": "stderr",
          "output_type": "stream",
          "text": [
            "100%|██████████| 1692/1692 [00:16<00:00, 99.79it/s, Loss: 269.6816101074219] \n"
          ]
        },
        {
          "name": "stdout",
          "output_type": "stream",
          "text": [
            "  Train loss: 617.66936352 || Eval loss: 703.9891490891189\n",
            "Epoch 15:\n"
          ]
        },
        {
          "name": "stderr",
          "output_type": "stream",
          "text": [
            "100%|██████████| 1692/1692 [00:17<00:00, 98.32it/s, Loss: 1168.28759765625]\n"
          ]
        },
        {
          "name": "stdout",
          "output_type": "stream",
          "text": [
            "  Train loss: 613.42415135 || Eval loss: 655.977125091192\n",
            "Epoch 16:\n"
          ]
        },
        {
          "name": "stderr",
          "output_type": "stream",
          "text": [
            "100%|██████████| 1692/1692 [00:17<00:00, 97.79it/s, Loss: 1215.849853515625] \n"
          ]
        },
        {
          "name": "stdout",
          "output_type": "stream",
          "text": [
            "  Train loss: 614.14177734 || Eval loss: 795.2490545322427\n",
            "Epoch 17:\n"
          ]
        },
        {
          "name": "stderr",
          "output_type": "stream",
          "text": [
            "100%|██████████| 1692/1692 [00:17<00:00, 99.51it/s, Loss: 1136.7706298828125] \n"
          ]
        },
        {
          "name": "stdout",
          "output_type": "stream",
          "text": [
            "  Train loss: 613.58176312 || Eval loss: 847.5451035375572\n",
            "Epoch 18:\n"
          ]
        },
        {
          "name": "stderr",
          "output_type": "stream",
          "text": [
            "100%|██████████| 1692/1692 [00:17<00:00, 96.33it/s, Loss: 396.9999694824219]\n"
          ]
        },
        {
          "name": "stdout",
          "output_type": "stream",
          "text": [
            "  Train loss: 610.77056520 || Eval loss: 728.4770839682144\n",
            "Epoch 19:\n"
          ]
        },
        {
          "name": "stderr",
          "output_type": "stream",
          "text": [
            "100%|██████████| 1692/1692 [00:16<00:00, 99.74it/s, Loss: 1744.4932861328125] \n"
          ]
        },
        {
          "name": "stdout",
          "output_type": "stream",
          "text": [
            "  Train loss: 609.82071192 || Eval loss: 686.7070889664598\n",
            "Epoch 20:\n"
          ]
        },
        {
          "name": "stderr",
          "output_type": "stream",
          "text": [
            "100%|██████████| 1692/1692 [00:16<00:00, 99.62it/s, Loss: 3067.230224609375] \n"
          ]
        },
        {
          "name": "stdout",
          "output_type": "stream",
          "text": [
            "  Train loss: 608.21644186 || Eval loss: 808.6085675467273\n",
            "Epoch 21:\n"
          ]
        },
        {
          "name": "stderr",
          "output_type": "stream",
          "text": [
            "100%|██████████| 1692/1692 [00:17<00:00, 95.22it/s, Loss: 1320.95263671875] \n"
          ]
        },
        {
          "name": "stdout",
          "output_type": "stream",
          "text": [
            "  Train loss: 608.78578540 || Eval loss: 789.5137202846806\n",
            "Epoch 22:\n"
          ]
        },
        {
          "name": "stderr",
          "output_type": "stream",
          "text": [
            "100%|██████████| 1692/1692 [00:16<00:00, 99.83it/s, Loss: 942.5828247070312] \n"
          ]
        },
        {
          "name": "stdout",
          "output_type": "stream",
          "text": [
            "  Train loss: 608.80419066 || Eval loss: 685.7416010286228\n",
            "Epoch 23:\n"
          ]
        },
        {
          "name": "stderr",
          "output_type": "stream",
          "text": [
            "100%|██████████| 1692/1692 [00:16<00:00, 99.54it/s, Loss: 808.2499389648438] \n"
          ]
        },
        {
          "name": "stdout",
          "output_type": "stream",
          "text": [
            "  Train loss: 605.59823125 || Eval loss: 658.6794893161061\n",
            "Epoch 24:\n"
          ]
        },
        {
          "name": "stderr",
          "output_type": "stream",
          "text": [
            "100%|██████████| 1692/1692 [00:17<00:00, 96.38it/s, Loss: 367.7990417480469] \n"
          ]
        },
        {
          "name": "stdout",
          "output_type": "stream",
          "text": [
            "  Train loss: 604.24195921 || Eval loss: 653.7082046977736\n",
            "Epoch 25:\n"
          ]
        },
        {
          "name": "stderr",
          "output_type": "stream",
          "text": [
            "100%|██████████| 1692/1692 [00:17<00:00, 99.13it/s, Loss: 683.2915649414062] \n"
          ]
        },
        {
          "name": "stdout",
          "output_type": "stream",
          "text": [
            "  Train loss: 604.14298168 || Eval loss: 727.1264280495069\n",
            "Epoch 26:\n"
          ]
        },
        {
          "name": "stderr",
          "output_type": "stream",
          "text": [
            "100%|██████████| 1692/1692 [00:16<00:00, 99.70it/s, Loss: 2133.52783203125]\n"
          ]
        },
        {
          "name": "stdout",
          "output_type": "stream",
          "text": [
            "  Train loss: 603.83611336 || Eval loss: 892.1573398310524\n",
            "Epoch 27:\n"
          ]
        },
        {
          "name": "stderr",
          "output_type": "stream",
          "text": [
            "100%|██████████| 1692/1692 [00:17<00:00, 99.42it/s, Loss: 528.4134521484375] \n"
          ]
        },
        {
          "name": "stdout",
          "output_type": "stream",
          "text": [
            "  Train loss: 610.41287145 || Eval loss: 718.1153050055177\n",
            "Epoch 28:\n"
          ]
        },
        {
          "name": "stderr",
          "output_type": "stream",
          "text": [
            "100%|██████████| 1692/1692 [00:16<00:00, 102.35it/s, Loss: 513.2990112304688]\n"
          ]
        },
        {
          "name": "stdout",
          "output_type": "stream",
          "text": [
            "  Train loss: 598.46351835 || Eval loss: 693.6231414578485\n",
            "Epoch 29:\n"
          ]
        },
        {
          "name": "stderr",
          "output_type": "stream",
          "text": [
            "100%|██████████| 1692/1692 [00:16<00:00, 100.49it/s, Loss: 945.63037109375]\n"
          ]
        },
        {
          "name": "stdout",
          "output_type": "stream",
          "text": [
            "  Train loss: 597.21481329 || Eval loss: 676.842899331528\n",
            "Epoch 30:\n"
          ]
        },
        {
          "name": "stderr",
          "output_type": "stream",
          "text": [
            "100%|██████████| 1692/1692 [00:16<00:00, 100.25it/s, Loss: 1030.4559326171875]\n"
          ]
        },
        {
          "name": "stdout",
          "output_type": "stream",
          "text": [
            "  Train loss: 598.68222630 || Eval loss: 726.6317492906647\n",
            "Epoch 31:\n"
          ]
        },
        {
          "name": "stderr",
          "output_type": "stream",
          "text": [
            "100%|██████████| 1692/1692 [00:16<00:00, 101.84it/s, Loss: 1794.347412109375]\n"
          ]
        },
        {
          "name": "stdout",
          "output_type": "stream",
          "text": [
            "  Train loss: 597.83960119 || Eval loss: 720.4112431230839\n",
            "Epoch 32:\n"
          ]
        },
        {
          "name": "stderr",
          "output_type": "stream",
          "text": [
            "100%|██████████| 1692/1692 [00:16<00:00, 100.39it/s, Loss: 454.6391296386719]\n"
          ]
        },
        {
          "name": "stdout",
          "output_type": "stream",
          "text": [
            "  Train loss: 595.03459688 || Eval loss: 718.8509243002457\n",
            "Epoch 33:\n"
          ]
        },
        {
          "name": "stderr",
          "output_type": "stream",
          "text": [
            "100%|██████████| 1692/1692 [00:16<00:00, 100.93it/s, Loss: 867.8897705078125]\n"
          ]
        },
        {
          "name": "stdout",
          "output_type": "stream",
          "text": [
            "  Train loss: 594.31007193 || Eval loss: 638.206873972647\n",
            "Epoch 34:\n"
          ]
        },
        {
          "name": "stderr",
          "output_type": "stream",
          "text": [
            "100%|██████████| 1692/1692 [00:16<00:00, 101.47it/s, Loss: 1043.9674072265625]\n"
          ]
        },
        {
          "name": "stdout",
          "output_type": "stream",
          "text": [
            "  Train loss: 591.51838909 || Eval loss: 724.3385318548685\n",
            "Epoch 35:\n"
          ]
        },
        {
          "name": "stderr",
          "output_type": "stream",
          "text": [
            "100%|██████████| 1692/1692 [00:16<00:00, 99.55it/s, Loss: 1153.750732421875]\n"
          ]
        },
        {
          "name": "stdout",
          "output_type": "stream",
          "text": [
            "  Train loss: 592.17630469 || Eval loss: 811.694777901291\n",
            "Epoch 36:\n"
          ]
        },
        {
          "name": "stderr",
          "output_type": "stream",
          "text": [
            "100%|██████████| 1692/1692 [00:16<00:00, 100.38it/s, Loss: 569.5783081054688]\n"
          ]
        },
        {
          "name": "stdout",
          "output_type": "stream",
          "text": [
            "  Train loss: 592.09493644 || Eval loss: 657.3175369875933\n",
            "Epoch 37:\n"
          ]
        },
        {
          "name": "stderr",
          "output_type": "stream",
          "text": [
            "100%|██████████| 1692/1692 [00:16<00:00, 101.56it/s, Loss: 4304.283203125]\n"
          ]
        },
        {
          "name": "stdout",
          "output_type": "stream",
          "text": [
            "  Train loss: 590.67906604 || Eval loss: 754.2283994706246\n",
            "Epoch 38:\n"
          ]
        },
        {
          "name": "stderr",
          "output_type": "stream",
          "text": [
            "100%|██████████| 1692/1692 [00:16<00:00, 99.74it/s, Loss: 1901.6024169921875]\n"
          ]
        },
        {
          "name": "stdout",
          "output_type": "stream",
          "text": [
            "  Train loss: 587.27063585 || Eval loss: 683.1513952521286\n",
            "Epoch 39:\n"
          ]
        },
        {
          "name": "stderr",
          "output_type": "stream",
          "text": [
            "100%|██████████| 1692/1692 [00:16<00:00, 101.32it/s, Loss: 309.8557434082031]\n"
          ]
        },
        {
          "name": "stdout",
          "output_type": "stream",
          "text": [
            "  Train loss: 586.57209026 || Eval loss: 690.7086841772634\n",
            "Epoch 40:\n"
          ]
        },
        {
          "name": "stderr",
          "output_type": "stream",
          "text": [
            "100%|██████████| 1692/1692 [00:16<00:00, 101.73it/s, Loss: 536.6900024414062]\n"
          ]
        },
        {
          "name": "stdout",
          "output_type": "stream",
          "text": [
            "  Train loss: 582.42036265 || Eval loss: 680.7044400695368\n",
            "Epoch 41:\n"
          ]
        },
        {
          "name": "stderr",
          "output_type": "stream",
          "text": [
            "100%|██████████| 1692/1692 [00:17<00:00, 98.74it/s, Loss: 1462.030517578125]\n"
          ]
        },
        {
          "name": "stdout",
          "output_type": "stream",
          "text": [
            "  Train loss: 582.58240202 || Eval loss: 672.4643830283595\n",
            "Epoch 42:\n"
          ]
        },
        {
          "name": "stderr",
          "output_type": "stream",
          "text": [
            "100%|██████████| 1692/1692 [00:16<00:00, 100.61it/s, Loss: 1694.006591796875]\n"
          ]
        },
        {
          "name": "stdout",
          "output_type": "stream",
          "text": [
            "  Train loss: 580.78484751 || Eval loss: 754.1791854389452\n",
            "Epoch 43:\n"
          ]
        },
        {
          "name": "stderr",
          "output_type": "stream",
          "text": [
            "100%|██████████| 1692/1692 [00:16<00:00, 101.35it/s, Loss: 370.01904296875]\n"
          ]
        },
        {
          "name": "stdout",
          "output_type": "stream",
          "text": [
            "  Train loss: 578.26829702 || Eval loss: 633.081822388561\n",
            "Epoch 44:\n"
          ]
        },
        {
          "name": "stderr",
          "output_type": "stream",
          "text": [
            "100%|██████████| 1692/1692 [00:17<00:00, 96.94it/s, Loss: 1057.8836669921875]\n"
          ]
        },
        {
          "name": "stdout",
          "output_type": "stream",
          "text": [
            "  Train loss: 577.63481370 || Eval loss: 639.6829182149107\n",
            "Epoch 45:\n"
          ]
        },
        {
          "name": "stderr",
          "output_type": "stream",
          "text": [
            "100%|██████████| 1692/1692 [00:16<00:00, 100.88it/s, Loss: 939.4481811523438]\n"
          ]
        },
        {
          "name": "stdout",
          "output_type": "stream",
          "text": [
            "  Train loss: 578.82476439 || Eval loss: 617.1850047731513\n",
            "Epoch 46:\n"
          ]
        },
        {
          "name": "stderr",
          "output_type": "stream",
          "text": [
            "100%|██████████| 1692/1692 [00:16<00:00, 101.84it/s, Loss: 426.98577880859375]\n"
          ]
        },
        {
          "name": "stdout",
          "output_type": "stream",
          "text": [
            "  Train loss: 574.04344205 || Eval loss: 710.5769027096724\n",
            "Epoch 47:\n"
          ]
        },
        {
          "name": "stderr",
          "output_type": "stream",
          "text": [
            "100%|██████████| 1692/1692 [00:17<00:00, 96.95it/s, Loss: 2446.26123046875]\n"
          ]
        },
        {
          "name": "stdout",
          "output_type": "stream",
          "text": [
            "  Train loss: 572.83296670 || Eval loss: 779.071048817736\n",
            "Epoch 48:\n"
          ]
        },
        {
          "name": "stderr",
          "output_type": "stream",
          "text": [
            "100%|██████████| 1692/1692 [00:16<00:00, 100.95it/s, Loss: 363.7228698730469]\n"
          ]
        },
        {
          "name": "stdout",
          "output_type": "stream",
          "text": [
            "  Train loss: 574.30434812 || Eval loss: 683.3785554782155\n",
            "Epoch 49:\n"
          ]
        },
        {
          "name": "stderr",
          "output_type": "stream",
          "text": [
            "100%|██████████| 1692/1692 [00:16<00:00, 100.89it/s, Loss: 1282.338623046875]\n"
          ]
        },
        {
          "name": "stdout",
          "output_type": "stream",
          "text": [
            "  Train loss: 568.45258664 || Eval loss: 744.5313390276392\n"
          ]
        }
      ],
      "source": [
        "loss = run_epochs(50,\n",
        "    lstm_regressor, mse_loss,\n",
        "    adam_opt, train_loader, test_loader,\n",
        "    torch.cuda.is_available()\n",
        ")\n",
        "\n",
        "global_loss['train'].extend(loss['train'])\n",
        "global_loss['eval'].extend(loss['eval'])"
      ]
    },
    {
      "cell_type": "code",
      "execution_count": 23,
      "id": "C69d5spMqp3Y",
      "metadata": {
        "colab": {
          "base_uri": "https://localhost:8080/",
          "height": 452
        },
        "id": "C69d5spMqp3Y",
        "outputId": "0d9f5f67-641e-4ecf-d3cd-d94f281ba5da"
      },
      "outputs": [
        {
          "data": {
            "image/png": "[encoded data removed]",
            "text/plain": [
              "<Figure size 640x480 with 1 Axes>"
            ]
          },
          "metadata": {},
          "output_type": "display_data"
        }
      ],
      "source": [
        "import matplotlib.pyplot as plt\n",
        "\n",
        "plt.title(f\"Learning rate: {1e-5}\")\n",
        "plt.plot([sum(loss) / len(loss) for loss in global_loss['train']], label='Train Loss')\n",
        "plt.plot([sum(loss) / len(loss) for loss in global_loss['eval']], label='Eval Loss')\n",
        "plt.legend();"
      ]
    },
    {
      "cell_type": "code",
      "execution_count": null,
      "id": "26908906",
      "metadata": {
        "id": "26908906"
      },
      "outputs": [],
      "source": [
        "checkpoint = {\n",
        "    'model': lstm_regressor.state_dict(),\n",
        "    'optimizer': adam_opt.state_dict(),\n",
        "    'loss': global_loss\n",
        "}\n",
        "\n",
        "torch.save(checkpoint, '../resource/models/lstm_4layer_with_mlp_cp2.tar')"
      ]
    }
  ],
  "metadata": {
    "accelerator": "GPU",
    "colab": {
      "collapsed_sections": [
        "88b1c4b9",
        "884dfc70"
      ],
      "gpuType": "T4",
      "provenance": []
    },
    "kernelspec": {
      "display_name": "Python 3",
      "name": "python3"
    },
    "language_info": {
      "codemirror_mode": {
        "name": "ipython",
        "version": 3
      },
      "file_extension": ".py",
      "mimetype": "text/x-python",
      "name": "python",
      "nbconvert_exporter": "python",
      "pygments_lexer": "ipython3",
      "version": "3.13.2"
    }
  },
  "nbformat": 4,
  "nbformat_minor": 5
}
