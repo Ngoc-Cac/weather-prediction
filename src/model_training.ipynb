{
  "cells": [
    {
      "cell_type": "code",
      "execution_count": null,
      "id": "b4c1b1ae",
      "metadata": {
        "id": "b4c1b1ae"
      },
      "outputs": [],
      "source": [
        "import pandas as pd\n",
        "import torch\n",
        "\n",
        "from torch.utils.data import DataLoader\n",
        "\n",
        "from utils.config import Training_Config\n",
        "from utils.loops import train_loop, eval_loop\n",
        "from utils.lstm import LSTMRegressor\n",
        "from utils.weather_dataset import WeatherDataset\n",
        "\n",
        "config = Training_Config()\n",
        "data_folder = '../resource/dataset'"
      ]
    },
    {
      "cell_type": "markdown",
      "id": "88b1c4b9",
      "metadata": {
        "id": "88b1c4b9"
      },
      "source": [
        "# Load dataset"
      ]
    },
    {
      "cell_type": "code",
      "execution_count": null,
      "id": "110cf855",
      "metadata": {
        "id": "110cf855"
      },
      "outputs": [],
      "source": [
        "metadata = pd.read_csv(f'{data_folder}/metadata.csv')\n",
        "metadata = metadata[metadata['attributes'] != 'weather_description']\n",
        "city_coords = pd.read_csv(f'{data_folder}/raw/city_attributes.csv')\n",
        "\n",
        "train_dfs = {\n",
        "    attribute: pd.read_csv(f'{data_folder}/train-test-split/train/{attribute}.csv', index_col=0)\n",
        "    for attribute in metadata['attributes']\n",
        "}\n",
        "test_dfs = {\n",
        "    attribute: pd.read_csv(f'{data_folder}/train-test-split/test/{attribute}.csv', index_col=0)\n",
        "    for attribute in metadata['attributes']\n",
        "}\n",
        "\n",
        "city_coords = (city_coords\n",
        "    .set_index('City')\n",
        "    .loc[train_dfs['humidity'].columns]\n",
        "        [['Latitude', 'Longitude']]\n",
        ")\n",
        "\n",
        "train_set = WeatherDataset(config.lag_duration, city_coords, *train_dfs.values())\n",
        "test_set = WeatherDataset(config.lag_duration, city_coords, *test_dfs.values())"
      ]
    },
    {
      "cell_type": "markdown",
      "id": "884dfc70",
      "metadata": {
        "id": "884dfc70"
      },
      "source": [
        "# Load model"
      ]
    },
    {
      "cell_type": "code",
      "execution_count": 5,
      "id": "f2aef479",
      "metadata": {
        "id": "f2aef479"
      },
      "outputs": [],
      "source": [
        "def run_epochs(\n",
        "    epochs,\n",
        "    model, loss_fn,\n",
        "    optimizer,\n",
        "    train_loader,\n",
        "    test_loader,\n",
        "    use_gpu: bool = False,\n",
        "):\n",
        "    loss = {\n",
        "        'train': [],\n",
        "        'eval': []\n",
        "    }\n",
        "    for epoch in range(epochs):\n",
        "        print(f\"Epoch {epoch}:\")\n",
        "        train_loss = train_loop(\n",
        "            model, loss_fn, optimizer, train_loader, use_gpu\n",
        "        )\n",
        "        print(f\"  Train loss: {sum(train_loss) / len(train_loss):<.8f} || \", end='')\n",
        "\n",
        "        eval_loss = eval_loop(\n",
        "            model, loss_fn, test_loader, use_gpu\n",
        "        )\n",
        "        print(f\"Eval loss: {sum(eval_loss) / len(eval_loss)}\")\n",
        "\n",
        "        loss['train'].append(train_loss)\n",
        "        loss['eval'].append(eval_loss)\n",
        "\n",
        "    return loss"
      ]
    },
    {
      "cell_type": "code",
      "execution_count": null,
      "id": "d6771888",
      "metadata": {
        "id": "d6771888"
      },
      "outputs": [],
      "source": [
        "train_loader = DataLoader(train_set, config.batch_size, shuffle=True)\n",
        "test_loader = DataLoader(test_set, config.batch_size, shuffle=True)"
      ]
    },
    {
      "cell_type": "code",
      "execution_count": null,
      "id": "2741bb8c",
      "metadata": {
        "id": "2741bb8c"
      },
      "outputs": [],
      "source": [
        "lstm_regressor = LSTMRegressor(\n",
        "    train_set[0][0].shape[1], len(train_dfs),\n",
        "    num_layers=4, hidden_size=512,\n",
        "    fc_hidden_dims=(),\n",
        ")\n",
        "if torch.cuda.is_available():\n",
        "    lstm_regressor.cuda()\n",
        "\n",
        "mse_loss = torch.nn.MSELoss()\n",
        "adam_opt = torch.optim.Adam(lstm_regressor.parameters(), config.learning_rate)"
      ]
    },
    {
      "cell_type": "markdown",
      "id": "72cff039",
      "metadata": {
        "id": "72cff039"
      },
      "source": [
        "# Train loop"
      ]
    },
    {
      "cell_type": "code",
      "execution_count": 16,
      "id": "af129fe5",
      "metadata": {
        "id": "af129fe5"
      },
      "outputs": [],
      "source": [
        "global_loss = {\n",
        "    'train': [],\n",
        "    'eval': []\n",
        "}"
      ]
    },
    {
      "cell_type": "code",
      "execution_count": null,
      "id": "15807bbe",
      "metadata": {
        "colab": {
          "base_uri": "https://localhost:8080/"
        },
        "id": "15807bbe",
        "outputId": "bfe07443-6123-43cc-970e-a5e3f34d41fc"
      },
      "outputs": [],
      "source": [
        "epochs = 50\n",
        "\n",
        "loss = run_epochs(epochs,\n",
        "    lstm_regressor, mse_loss,\n",
        "    adam_opt, train_loader, test_loader,\n",
        "    torch.cuda.is_available()\n",
        ")\n",
        "\n",
        "global_loss['train'].extend(loss['train'])\n",
        "global_loss['eval'].extend(loss['eval'])\n",
        "config.epochs += epochs"
      ]
    },
    {
      "cell_type": "code",
      "execution_count": null,
      "id": "C69d5spMqp3Y",
      "metadata": {
        "colab": {
          "base_uri": "https://localhost:8080/",
          "height": 452
        },
        "id": "C69d5spMqp3Y",
        "outputId": "0d9f5f67-641e-4ecf-d3cd-d94f281ba5da"
      },
      "outputs": [],
      "source": [
        "import matplotlib.pyplot as plt\n",
        "\n",
        "plt.title(f\"Learning rate: {config.learning_rate}\")\n",
        "plt.plot([sum(loss) / len(loss) for loss in global_loss['train']], label='Train Loss')\n",
        "plt.plot([sum(loss) / len(loss) for loss in global_loss['eval']], label='Eval Loss')\n",
        "plt.legend();"
      ]
    },
    {
      "cell_type": "code",
      "execution_count": null,
      "id": "26908906",
      "metadata": {
        "id": "26908906"
      },
      "outputs": [],
      "source": [
        "checkpoint = {\n",
        "    'model': lstm_regressor.state_dict(),\n",
        "    'optimizer': adam_opt.state_dict(),\n",
        "    'loss': global_loss,\n",
        "    'config': config.to_dict()\n",
        "}\n",
        "\n",
        "torch.save(checkpoint, '../resource/models/lstm_mlp/4layer_2mlp_cp4.tar')"
      ]
    }
  ],
  "metadata": {
    "accelerator": "GPU",
    "colab": {
      "collapsed_sections": [
        "88b1c4b9",
        "884dfc70"
      ],
      "gpuType": "T4",
      "provenance": []
    },
    "kernelspec": {
      "display_name": ".hpc_venv",
      "language": "python",
      "name": "python3"
    },
    "language_info": {
      "codemirror_mode": {
        "name": "ipython",
        "version": 3
      },
      "file_extension": ".py",
      "mimetype": "text/x-python",
      "name": "python",
      "nbconvert_exporter": "python",
      "pygments_lexer": "ipython3",
      "version": "3.13.2"
    }
  },
  "nbformat": 4,
  "nbformat_minor": 5
}
