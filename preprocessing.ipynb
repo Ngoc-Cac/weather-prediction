{
 "cells": [
  {
   "cell_type": "markdown",
   "id": "5f9aa8e6",
   "metadata": {},
   "source": [
    "# **Pre-processing**\n",
    "\n",
    "---"
   ]
  },
  {
   "cell_type": "markdown",
   "id": "b8378006",
   "metadata": {},
   "source": [
    "## **Import Libraries & Data Loading**"
   ]
  },
  {
   "cell_type": "code",
   "execution_count": 1,
   "id": "cf4e0807",
   "metadata": {},
   "outputs": [],
   "source": [
    "import pandas as pd\n",
    "import numpy as np\n",
    "import matplotlib.pyplot as plt\n",
    "\n",
    "import os.path as osp"
   ]
  },
  {
   "cell_type": "code",
   "execution_count": 2,
   "id": "c75de1aa",
   "metadata": {},
   "outputs": [],
   "source": [
    "data_folder = osp.join('.', 'dataset')"
   ]
  },
  {
   "cell_type": "code",
   "execution_count": 3,
   "id": "2828ca9d",
   "metadata": {},
   "outputs": [],
   "source": [
    "humidity_df = pd.read_csv(osp.join(data_folder, 'humidity.csv'))\n",
    "temp_df=pd.read_csv(osp.join(data_folder,'temperature.csv'))\n",
    "pressure_df = pd.read_csv(osp.join(data_folder, 'pressure.csv'))\n",
    "wind_direct_df = pd.read_csv(osp.join(data_folder, 'wind_direction.csv'))\n",
    "wind_speed_df = pd.read_csv(osp.join(data_folder,'wind_speed.csv'))"
   ]
  },
  {
   "cell_type": "code",
   "execution_count": 4,
   "id": "023e2108",
   "metadata": {},
   "outputs": [],
   "source": [
    "weather_descript_df = pd.read_csv(osp.join(data_folder,'weather_description.csv'))"
   ]
  },
  {
   "cell_type": "code",
   "execution_count": 5,
   "id": "7cbd9dad",
   "metadata": {},
   "outputs": [],
   "source": [
    "city_attri_df = pd.read_csv(osp.join(data_folder,'city_attributes.csv'))"
   ]
  },
  {
   "cell_type": "markdown",
   "id": "7ee26be6",
   "metadata": {},
   "source": [
    "## **Metadata**"
   ]
  },
  {
   "cell_type": "code",
   "execution_count": 6,
   "id": "08930d38",
   "metadata": {},
   "outputs": [
    {
     "name": "stdout",
     "output_type": "stream",
     "text": [
      "<class 'pandas.core.frame.DataFrame'>\n",
      "RangeIndex: 45253 entries, 0 to 45252\n",
      "Data columns (total 37 columns):\n",
      " #   Column             Non-Null Count  Dtype  \n",
      "---  ------             --------------  -----  \n",
      " 0   datetime           45253 non-null  object \n",
      " 1   Vancouver          43427 non-null  float64\n",
      " 2   Portland           44804 non-null  float64\n",
      " 3   San Francisco      44311 non-null  float64\n",
      " 4   Seattle            44964 non-null  float64\n",
      " 5   Los Angeles        45101 non-null  float64\n",
      " 6   San Diego          44909 non-null  float64\n",
      " 7   Las Vegas          44411 non-null  float64\n",
      " 8   Phoenix            43945 non-null  float64\n",
      " 9   Albuquerque        44543 non-null  float64\n",
      " 10  Denver             43445 non-null  float64\n",
      " 11  San Antonio        44689 non-null  float64\n",
      " 12  Dallas             44934 non-null  float64\n",
      " 13  Houston            45132 non-null  float64\n",
      " 14  Kansas City        44741 non-null  float64\n",
      " 15  Minneapolis        44743 non-null  float64\n",
      " 16  Saint Louis        43964 non-null  float64\n",
      " 17  Chicago            44144 non-null  float64\n",
      " 18  Nashville          44686 non-null  float64\n",
      " 19  Indianapolis       44558 non-null  float64\n",
      " 20  Atlanta            44831 non-null  float64\n",
      " 21  Detroit            44391 non-null  float64\n",
      " 22  Jacksonville       45044 non-null  float64\n",
      " 23  Charlotte          44664 non-null  float64\n",
      " 24  Miami              44166 non-null  float64\n",
      " 25  Pittsburgh         44731 non-null  float64\n",
      " 26  Toronto            44525 non-null  float64\n",
      " 27  Philadelphia       44629 non-null  float64\n",
      " 28  New York           43629 non-null  float64\n",
      " 29  Montreal           43557 non-null  float64\n",
      " 30  Boston             44804 non-null  float64\n",
      " 31  Beersheba          44394 non-null  float64\n",
      " 32  Tel Aviv District  44140 non-null  float64\n",
      " 33  Eilat              44283 non-null  float64\n",
      " 34  Haifa              44435 non-null  float64\n",
      " 35  Nahariyya          44436 non-null  float64\n",
      " 36  Jerusalem          44347 non-null  float64\n",
      "dtypes: float64(36), object(1)\n",
      "memory usage: 12.8+ MB\n"
     ]
    }
   ],
   "source": [
    "humidity_df.info()"
   ]
  },
  {
   "cell_type": "markdown",
   "id": "bfc34014",
   "metadata": {},
   "source": [
    "## **Merge Dataframe**"
   ]
  },
  {
   "cell_type": "code",
   "execution_count": 7,
   "id": "7f3064e7",
   "metadata": {},
   "outputs": [
    {
     "name": "stdout",
     "output_type": "stream",
     "text": [
      "              datetime       city  humidity        temp  pressure  \\\n",
      "0  2012-10-01 12:00:00  Vancouver       NaN         NaN       NaN   \n",
      "1  2012-10-01 13:00:00  Vancouver      76.0  284.630000       NaN   \n",
      "2  2012-10-01 14:00:00  Vancouver      76.0  284.629041       NaN   \n",
      "3  2012-10-01 15:00:00  Vancouver      76.0  284.626998       NaN   \n",
      "4  2012-10-01 16:00:00  Vancouver      77.0  284.624955       NaN   \n",
      "\n",
      "   wind_direct  wind_speed weather_descript  \n",
      "0          NaN         NaN              NaN  \n",
      "1          0.0         0.0             mist  \n",
      "2          6.0         0.0    broken clouds  \n",
      "3         20.0         0.0    broken clouds  \n",
      "4         34.0         0.0    broken clouds  \n"
     ]
    }
   ],
   "source": [
    "#Melt\n",
    "humidity_melt = humidity_df.melt(id_vars='datetime',var_name='city',value_name='humidity')\n",
    "temp_melt = temp_df.melt(id_vars='datetime',var_name='city',value_name='temp')\n",
    "pressure_melt = pressure_df.melt(id_vars='datetime',var_name='city',value_name='pressure')\n",
    "wind_direct_melt = wind_direct_df.melt(id_vars='datetime',var_name='city',value_name='wind_direct')\n",
    "wind_speed_melt = wind_speed_df.melt(id_vars='datetime',var_name='city',value_name='wind_speed')\n",
    "weather_descript_melt = weather_descript_df.melt(id_vars='datetime',var_name='city',value_name='weather_descript')\n",
    "\n",
    "#Merge\n",
    "weather_df = (humidity_melt\n",
    "              .merge(temp_melt, on=['datetime','city'])\n",
    "              .merge(pressure_melt, on=['datetime','city'])\n",
    "              .merge(wind_direct_melt, on=['datetime','city'])\n",
    "              .merge(wind_speed_melt, on=['datetime','city'])\n",
    "              .merge(weather_descript_melt, on=['datetime','city'])\n",
    "              )\n",
    "\n",
    "print(weather_df.head())\n",
    "\n"
   ]
  },
  {
   "cell_type": "code",
   "execution_count": 8,
   "id": "336d2ea5",
   "metadata": {},
   "outputs": [
    {
     "name": "stdout",
     "output_type": "stream",
     "text": [
      "<class 'pandas.core.frame.DataFrame'>\n",
      "RangeIndex: 1629108 entries, 0 to 1629107\n",
      "Data columns (total 8 columns):\n",
      " #   Column            Non-Null Count    Dtype  \n",
      "---  ------            --------------    -----  \n",
      " 0   datetime          1629108 non-null  object \n",
      " 1   city              1629108 non-null  object \n",
      " 2   humidity          1600457 non-null  float64\n",
      " 3   temp              1621078 non-null  float64\n",
      " 4   pressure          1612428 non-null  float64\n",
      " 5   wind_direct       1621133 non-null  float64\n",
      " 6   wind_speed        1621115 non-null  float64\n",
      " 7   weather_descript  1621153 non-null  object \n",
      "dtypes: float64(5), object(3)\n",
      "memory usage: 99.4+ MB\n"
     ]
    }
   ],
   "source": [
    "weather_df.info()"
   ]
  },
  {
   "cell_type": "code",
   "execution_count": 9,
   "id": "2755187b",
   "metadata": {},
   "outputs": [],
   "source": [
    "weather_df.dropna(inplace=True)"
   ]
  },
  {
   "cell_type": "code",
   "execution_count": 10,
   "id": "8b5c7150",
   "metadata": {},
   "outputs": [
    {
     "name": "stdout",
     "output_type": "stream",
     "text": [
      "datetime            0\n",
      "city                0\n",
      "humidity            0\n",
      "temp                0\n",
      "pressure            0\n",
      "wind_direct         0\n",
      "wind_speed          0\n",
      "weather_descript    0\n",
      "dtype: int64\n"
     ]
    }
   ],
   "source": [
    "print(weather_df.isnull().sum())"
   ]
  },
  {
   "cell_type": "code",
   "execution_count": 11,
   "id": "43ae4aa5",
   "metadata": {},
   "outputs": [
    {
     "name": "stdout",
     "output_type": "stream",
     "text": [
      "<class 'pandas.core.frame.DataFrame'>\n",
      "Index: 1596319 entries, 21 to 1628315\n",
      "Data columns (total 8 columns):\n",
      " #   Column            Non-Null Count    Dtype  \n",
      "---  ------            --------------    -----  \n",
      " 0   datetime          1596319 non-null  object \n",
      " 1   city              1596319 non-null  object \n",
      " 2   humidity          1596319 non-null  float64\n",
      " 3   temp              1596319 non-null  float64\n",
      " 4   pressure          1596319 non-null  float64\n",
      " 5   wind_direct       1596319 non-null  float64\n",
      " 6   wind_speed        1596319 non-null  float64\n",
      " 7   weather_descript  1596319 non-null  object \n",
      "dtypes: float64(5), object(3)\n",
      "memory usage: 109.6+ MB\n"
     ]
    }
   ],
   "source": [
    "weather_df.info()"
   ]
  },
  {
   "cell_type": "code",
   "execution_count": 12,
   "id": "42ac693e",
   "metadata": {},
   "outputs": [],
   "source": [
    "# Merge city_attributes\n",
    "weather_df=weather_df.merge(city_attri_df, left_on='city', right_on='City',how='left')"
   ]
  },
  {
   "cell_type": "code",
   "execution_count": 13,
   "id": "39cc6f64",
   "metadata": {},
   "outputs": [],
   "source": [
    "weather_df.drop(columns=['City'], inplace=True)"
   ]
  },
  {
   "cell_type": "code",
   "execution_count": 14,
   "id": "03c18bf2",
   "metadata": {},
   "outputs": [
    {
     "data": {
      "application/vnd.microsoft.datawrangler.viewer.v0+json": {
       "columns": [
        {
         "name": "index",
         "rawType": "int64",
         "type": "integer"
        },
        {
         "name": "datetime",
         "rawType": "object",
         "type": "string"
        },
        {
         "name": "city",
         "rawType": "object",
         "type": "string"
        },
        {
         "name": "humidity",
         "rawType": "float64",
         "type": "float"
        },
        {
         "name": "temp",
         "rawType": "float64",
         "type": "float"
        },
        {
         "name": "pressure",
         "rawType": "float64",
         "type": "float"
        },
        {
         "name": "wind_direct",
         "rawType": "float64",
         "type": "float"
        },
        {
         "name": "wind_speed",
         "rawType": "float64",
         "type": "float"
        },
        {
         "name": "weather_descript",
         "rawType": "object",
         "type": "string"
        },
        {
         "name": "Country",
         "rawType": "object",
         "type": "string"
        },
        {
         "name": "Latitude",
         "rawType": "float64",
         "type": "float"
        },
        {
         "name": "Longitude",
         "rawType": "float64",
         "type": "float"
        }
       ],
       "conversionMethod": "pd.DataFrame",
       "ref": "2f6b9bf3-8dde-431f-92f0-41fb91f78c73",
       "rows": [
        [
         "0",
         "2012-10-02 09:00:00",
         "Vancouver",
         "87.0",
         "284.59021694",
         "807.0",
         "268.0",
         "0.0",
         "broken clouds",
         "Canada",
         "49.24966",
         "-123.119339"
        ],
        [
         "1",
         "2012-10-02 10:00:00",
         "Vancouver",
         "88.0",
         "284.588173552",
         "849.0",
         "281.0",
         "0.0",
         "broken clouds",
         "Canada",
         "49.24966",
         "-123.119339"
        ],
        [
         "2",
         "2012-10-02 11:00:00",
         "Vancouver",
         "89.0",
         "284.586130164",
         "890.0",
         "295.0",
         "0.0",
         "broken clouds",
         "Canada",
         "49.24966",
         "-123.119339"
        ],
        [
         "3",
         "2012-10-02 12:00:00",
         "Vancouver",
         "89.0",
         "284.584086776",
         "932.0",
         "309.0",
         "0.0",
         "broken clouds",
         "Canada",
         "49.24966",
         "-123.119339"
        ],
        [
         "4",
         "2012-10-02 13:00:00",
         "Vancouver",
         "90.0",
         "284.582043388",
         "973.0",
         "323.0",
         "0.0",
         "broken clouds",
         "Canada",
         "49.24966",
         "-123.119339"
        ]
       ],
       "shape": {
        "columns": 11,
        "rows": 5
       }
      },
      "text/html": [
       "<div>\n",
       "<style scoped>\n",
       "    .dataframe tbody tr th:only-of-type {\n",
       "        vertical-align: middle;\n",
       "    }\n",
       "\n",
       "    .dataframe tbody tr th {\n",
       "        vertical-align: top;\n",
       "    }\n",
       "\n",
       "    .dataframe thead th {\n",
       "        text-align: right;\n",
       "    }\n",
       "</style>\n",
       "<table border=\"1\" class=\"dataframe\">\n",
       "  <thead>\n",
       "    <tr style=\"text-align: right;\">\n",
       "      <th></th>\n",
       "      <th>datetime</th>\n",
       "      <th>city</th>\n",
       "      <th>humidity</th>\n",
       "      <th>temp</th>\n",
       "      <th>pressure</th>\n",
       "      <th>wind_direct</th>\n",
       "      <th>wind_speed</th>\n",
       "      <th>weather_descript</th>\n",
       "      <th>Country</th>\n",
       "      <th>Latitude</th>\n",
       "      <th>Longitude</th>\n",
       "    </tr>\n",
       "  </thead>\n",
       "  <tbody>\n",
       "    <tr>\n",
       "      <th>0</th>\n",
       "      <td>2012-10-02 09:00:00</td>\n",
       "      <td>Vancouver</td>\n",
       "      <td>87.0</td>\n",
       "      <td>284.590217</td>\n",
       "      <td>807.0</td>\n",
       "      <td>268.0</td>\n",
       "      <td>0.0</td>\n",
       "      <td>broken clouds</td>\n",
       "      <td>Canada</td>\n",
       "      <td>49.24966</td>\n",
       "      <td>-123.119339</td>\n",
       "    </tr>\n",
       "    <tr>\n",
       "      <th>1</th>\n",
       "      <td>2012-10-02 10:00:00</td>\n",
       "      <td>Vancouver</td>\n",
       "      <td>88.0</td>\n",
       "      <td>284.588174</td>\n",
       "      <td>849.0</td>\n",
       "      <td>281.0</td>\n",
       "      <td>0.0</td>\n",
       "      <td>broken clouds</td>\n",
       "      <td>Canada</td>\n",
       "      <td>49.24966</td>\n",
       "      <td>-123.119339</td>\n",
       "    </tr>\n",
       "    <tr>\n",
       "      <th>2</th>\n",
       "      <td>2012-10-02 11:00:00</td>\n",
       "      <td>Vancouver</td>\n",
       "      <td>89.0</td>\n",
       "      <td>284.586130</td>\n",
       "      <td>890.0</td>\n",
       "      <td>295.0</td>\n",
       "      <td>0.0</td>\n",
       "      <td>broken clouds</td>\n",
       "      <td>Canada</td>\n",
       "      <td>49.24966</td>\n",
       "      <td>-123.119339</td>\n",
       "    </tr>\n",
       "    <tr>\n",
       "      <th>3</th>\n",
       "      <td>2012-10-02 12:00:00</td>\n",
       "      <td>Vancouver</td>\n",
       "      <td>89.0</td>\n",
       "      <td>284.584087</td>\n",
       "      <td>932.0</td>\n",
       "      <td>309.0</td>\n",
       "      <td>0.0</td>\n",
       "      <td>broken clouds</td>\n",
       "      <td>Canada</td>\n",
       "      <td>49.24966</td>\n",
       "      <td>-123.119339</td>\n",
       "    </tr>\n",
       "    <tr>\n",
       "      <th>4</th>\n",
       "      <td>2012-10-02 13:00:00</td>\n",
       "      <td>Vancouver</td>\n",
       "      <td>90.0</td>\n",
       "      <td>284.582043</td>\n",
       "      <td>973.0</td>\n",
       "      <td>323.0</td>\n",
       "      <td>0.0</td>\n",
       "      <td>broken clouds</td>\n",
       "      <td>Canada</td>\n",
       "      <td>49.24966</td>\n",
       "      <td>-123.119339</td>\n",
       "    </tr>\n",
       "  </tbody>\n",
       "</table>\n",
       "</div>"
      ],
      "text/plain": [
       "              datetime       city  humidity        temp  pressure  \\\n",
       "0  2012-10-02 09:00:00  Vancouver      87.0  284.590217     807.0   \n",
       "1  2012-10-02 10:00:00  Vancouver      88.0  284.588174     849.0   \n",
       "2  2012-10-02 11:00:00  Vancouver      89.0  284.586130     890.0   \n",
       "3  2012-10-02 12:00:00  Vancouver      89.0  284.584087     932.0   \n",
       "4  2012-10-02 13:00:00  Vancouver      90.0  284.582043     973.0   \n",
       "\n",
       "   wind_direct  wind_speed weather_descript Country  Latitude   Longitude  \n",
       "0        268.0         0.0    broken clouds  Canada  49.24966 -123.119339  \n",
       "1        281.0         0.0    broken clouds  Canada  49.24966 -123.119339  \n",
       "2        295.0         0.0    broken clouds  Canada  49.24966 -123.119339  \n",
       "3        309.0         0.0    broken clouds  Canada  49.24966 -123.119339  \n",
       "4        323.0         0.0    broken clouds  Canada  49.24966 -123.119339  "
      ]
     },
     "execution_count": 14,
     "metadata": {},
     "output_type": "execute_result"
    }
   ],
   "source": [
    "weather_df.head()"
   ]
  },
  {
   "cell_type": "code",
   "execution_count": 46,
   "id": "66e400ec",
   "metadata": {},
   "outputs": [
    {
     "name": "stdout",
     "output_type": "stream",
     "text": [
      "<class 'pandas.core.frame.DataFrame'>\n",
      "RangeIndex: 1596319 entries, 0 to 1596318\n",
      "Data columns (total 11 columns):\n",
      " #   Column            Non-Null Count    Dtype  \n",
      "---  ------            --------------    -----  \n",
      " 0   datetime          1596319 non-null  object \n",
      " 1   city              1596319 non-null  object \n",
      " 2   humidity          1596319 non-null  float64\n",
      " 3   temp              1596319 non-null  float64\n",
      " 4   pressure          1596319 non-null  float64\n",
      " 5   wind_direct       1596319 non-null  float64\n",
      " 6   wind_speed        1596319 non-null  float64\n",
      " 7   weather_descript  1596319 non-null  object \n",
      " 8   Country           1596319 non-null  object \n",
      " 9   Latitude          1596319 non-null  float64\n",
      " 10  Longitude         1596319 non-null  float64\n",
      "dtypes: float64(7), object(4)\n",
      "memory usage: 134.0+ MB\n"
     ]
    }
   ],
   "source": [
    "weather_df.info()"
   ]
  },
  {
   "cell_type": "code",
   "execution_count": 15,
   "id": "930069aa",
   "metadata": {},
   "outputs": [
    {
     "name": "stdout",
     "output_type": "stream",
     "text": [
      "             datetime        date      time\n",
      "0 2012-10-02 09:00:00  2012-10-02  09:00:00\n",
      "1 2012-10-02 10:00:00  2012-10-02  10:00:00\n",
      "2 2012-10-02 11:00:00  2012-10-02  11:00:00\n",
      "3 2012-10-02 12:00:00  2012-10-02  12:00:00\n",
      "4 2012-10-02 13:00:00  2012-10-02  13:00:00\n"
     ]
    }
   ],
   "source": [
    "weather_df['datetime'] = pd.to_datetime(weather_df['datetime'])\n",
    "weather_df['date'] = weather_df['datetime'].dt.date\n",
    "weather_df['time'] = weather_df['datetime'].dt.time\n",
    "print(weather_df[['datetime', 'date', 'time']].head())\n"
   ]
  },
  {
   "cell_type": "code",
   "execution_count": 16,
   "id": "b052ca9c",
   "metadata": {},
   "outputs": [],
   "source": [
    "weather_df.drop(columns=['datetime'], inplace=True)"
   ]
  },
  {
   "cell_type": "code",
   "execution_count": 17,
   "id": "d2e1f915",
   "metadata": {},
   "outputs": [
    {
     "data": {
      "application/vnd.microsoft.datawrangler.viewer.v0+json": {
       "columns": [
        {
         "name": "index",
         "rawType": "int64",
         "type": "integer"
        },
        {
         "name": "city",
         "rawType": "object",
         "type": "string"
        },
        {
         "name": "humidity",
         "rawType": "float64",
         "type": "float"
        },
        {
         "name": "temp",
         "rawType": "float64",
         "type": "float"
        },
        {
         "name": "pressure",
         "rawType": "float64",
         "type": "float"
        },
        {
         "name": "wind_direct",
         "rawType": "float64",
         "type": "float"
        },
        {
         "name": "wind_speed",
         "rawType": "float64",
         "type": "float"
        },
        {
         "name": "weather_descript",
         "rawType": "object",
         "type": "string"
        },
        {
         "name": "Country",
         "rawType": "object",
         "type": "string"
        },
        {
         "name": "Latitude",
         "rawType": "float64",
         "type": "float"
        },
        {
         "name": "Longitude",
         "rawType": "float64",
         "type": "float"
        },
        {
         "name": "date",
         "rawType": "object",
         "type": "unknown"
        },
        {
         "name": "time",
         "rawType": "object",
         "type": "unknown"
        }
       ],
       "conversionMethod": "pd.DataFrame",
       "ref": "f660dbc4-520b-44cf-9e54-e8b5ed85a311",
       "rows": [
        [
         "0",
         "Vancouver",
         "87.0",
         "284.59021694",
         "807.0",
         "268.0",
         "0.0",
         "broken clouds",
         "Canada",
         "49.24966",
         "-123.119339",
         "2012-10-02",
         "09:00:00"
        ],
        [
         "1",
         "Vancouver",
         "88.0",
         "284.588173552",
         "849.0",
         "281.0",
         "0.0",
         "broken clouds",
         "Canada",
         "49.24966",
         "-123.119339",
         "2012-10-02",
         "10:00:00"
        ],
        [
         "2",
         "Vancouver",
         "89.0",
         "284.586130164",
         "890.0",
         "295.0",
         "0.0",
         "broken clouds",
         "Canada",
         "49.24966",
         "-123.119339",
         "2012-10-02",
         "11:00:00"
        ],
        [
         "3",
         "Vancouver",
         "89.0",
         "284.584086776",
         "932.0",
         "309.0",
         "0.0",
         "broken clouds",
         "Canada",
         "49.24966",
         "-123.119339",
         "2012-10-02",
         "12:00:00"
        ],
        [
         "4",
         "Vancouver",
         "90.0",
         "284.582043388",
         "973.0",
         "323.0",
         "0.0",
         "broken clouds",
         "Canada",
         "49.24966",
         "-123.119339",
         "2012-10-02",
         "13:00:00"
        ]
       ],
       "shape": {
        "columns": 12,
        "rows": 5
       }
      },
      "text/html": [
       "<div>\n",
       "<style scoped>\n",
       "    .dataframe tbody tr th:only-of-type {\n",
       "        vertical-align: middle;\n",
       "    }\n",
       "\n",
       "    .dataframe tbody tr th {\n",
       "        vertical-align: top;\n",
       "    }\n",
       "\n",
       "    .dataframe thead th {\n",
       "        text-align: right;\n",
       "    }\n",
       "</style>\n",
       "<table border=\"1\" class=\"dataframe\">\n",
       "  <thead>\n",
       "    <tr style=\"text-align: right;\">\n",
       "      <th></th>\n",
       "      <th>city</th>\n",
       "      <th>humidity</th>\n",
       "      <th>temp</th>\n",
       "      <th>pressure</th>\n",
       "      <th>wind_direct</th>\n",
       "      <th>wind_speed</th>\n",
       "      <th>weather_descript</th>\n",
       "      <th>Country</th>\n",
       "      <th>Latitude</th>\n",
       "      <th>Longitude</th>\n",
       "      <th>date</th>\n",
       "      <th>time</th>\n",
       "    </tr>\n",
       "  </thead>\n",
       "  <tbody>\n",
       "    <tr>\n",
       "      <th>0</th>\n",
       "      <td>Vancouver</td>\n",
       "      <td>87.0</td>\n",
       "      <td>284.590217</td>\n",
       "      <td>807.0</td>\n",
       "      <td>268.0</td>\n",
       "      <td>0.0</td>\n",
       "      <td>broken clouds</td>\n",
       "      <td>Canada</td>\n",
       "      <td>49.24966</td>\n",
       "      <td>-123.119339</td>\n",
       "      <td>2012-10-02</td>\n",
       "      <td>09:00:00</td>\n",
       "    </tr>\n",
       "    <tr>\n",
       "      <th>1</th>\n",
       "      <td>Vancouver</td>\n",
       "      <td>88.0</td>\n",
       "      <td>284.588174</td>\n",
       "      <td>849.0</td>\n",
       "      <td>281.0</td>\n",
       "      <td>0.0</td>\n",
       "      <td>broken clouds</td>\n",
       "      <td>Canada</td>\n",
       "      <td>49.24966</td>\n",
       "      <td>-123.119339</td>\n",
       "      <td>2012-10-02</td>\n",
       "      <td>10:00:00</td>\n",
       "    </tr>\n",
       "    <tr>\n",
       "      <th>2</th>\n",
       "      <td>Vancouver</td>\n",
       "      <td>89.0</td>\n",
       "      <td>284.586130</td>\n",
       "      <td>890.0</td>\n",
       "      <td>295.0</td>\n",
       "      <td>0.0</td>\n",
       "      <td>broken clouds</td>\n",
       "      <td>Canada</td>\n",
       "      <td>49.24966</td>\n",
       "      <td>-123.119339</td>\n",
       "      <td>2012-10-02</td>\n",
       "      <td>11:00:00</td>\n",
       "    </tr>\n",
       "    <tr>\n",
       "      <th>3</th>\n",
       "      <td>Vancouver</td>\n",
       "      <td>89.0</td>\n",
       "      <td>284.584087</td>\n",
       "      <td>932.0</td>\n",
       "      <td>309.0</td>\n",
       "      <td>0.0</td>\n",
       "      <td>broken clouds</td>\n",
       "      <td>Canada</td>\n",
       "      <td>49.24966</td>\n",
       "      <td>-123.119339</td>\n",
       "      <td>2012-10-02</td>\n",
       "      <td>12:00:00</td>\n",
       "    </tr>\n",
       "    <tr>\n",
       "      <th>4</th>\n",
       "      <td>Vancouver</td>\n",
       "      <td>90.0</td>\n",
       "      <td>284.582043</td>\n",
       "      <td>973.0</td>\n",
       "      <td>323.0</td>\n",
       "      <td>0.0</td>\n",
       "      <td>broken clouds</td>\n",
       "      <td>Canada</td>\n",
       "      <td>49.24966</td>\n",
       "      <td>-123.119339</td>\n",
       "      <td>2012-10-02</td>\n",
       "      <td>13:00:00</td>\n",
       "    </tr>\n",
       "  </tbody>\n",
       "</table>\n",
       "</div>"
      ],
      "text/plain": [
       "        city  humidity        temp  pressure  wind_direct  wind_speed  \\\n",
       "0  Vancouver      87.0  284.590217     807.0        268.0         0.0   \n",
       "1  Vancouver      88.0  284.588174     849.0        281.0         0.0   \n",
       "2  Vancouver      89.0  284.586130     890.0        295.0         0.0   \n",
       "3  Vancouver      89.0  284.584087     932.0        309.0         0.0   \n",
       "4  Vancouver      90.0  284.582043     973.0        323.0         0.0   \n",
       "\n",
       "  weather_descript Country  Latitude   Longitude        date      time  \n",
       "0    broken clouds  Canada  49.24966 -123.119339  2012-10-02  09:00:00  \n",
       "1    broken clouds  Canada  49.24966 -123.119339  2012-10-02  10:00:00  \n",
       "2    broken clouds  Canada  49.24966 -123.119339  2012-10-02  11:00:00  \n",
       "3    broken clouds  Canada  49.24966 -123.119339  2012-10-02  12:00:00  \n",
       "4    broken clouds  Canada  49.24966 -123.119339  2012-10-02  13:00:00  "
      ]
     },
     "execution_count": 17,
     "metadata": {},
     "output_type": "execute_result"
    }
   ],
   "source": [
    "weather_df.head()"
   ]
  },
  {
   "cell_type": "code",
   "execution_count": null,
   "id": "97b66a68",
   "metadata": {},
   "outputs": [],
   "source": []
  }
 ],
 "metadata": {
  "kernelspec": {
   "display_name": "Python 3",
   "language": "python",
   "name": "python3"
  },
  "language_info": {
   "codemirror_mode": {
    "name": "ipython",
    "version": 3
   },
   "file_extension": ".py",
   "mimetype": "text/x-python",
   "name": "python",
   "nbconvert_exporter": "python",
   "pygments_lexer": "ipython3",
   "version": "3.11.8"
  }
 },
 "nbformat": 4,
 "nbformat_minor": 5
}
