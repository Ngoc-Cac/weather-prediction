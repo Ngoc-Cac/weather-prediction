{
 "cells": [
  {
   "cell_type": "markdown",
   "id": "5f9aa8e6",
   "metadata": {},
   "source": [
    "# **Pre-processing**\n",
    "\n",
    "---"
   ]
  },
  {
   "cell_type": "markdown",
   "id": "b8378006",
   "metadata": {},
   "source": [
    "## **Import Libraries & Data Loading**"
   ]
  },
  {
   "cell_type": "code",
   "execution_count": 4,
   "id": "cf4e0807",
   "metadata": {},
   "outputs": [],
   "source": [
    "import pandas as pd\n",
    "import numpy as np\n",
    "import matplotlib.pyplot as plt"
   ]
  },
  {
   "cell_type": "code",
   "execution_count": 6,
   "id": "2d082e75",
   "metadata": {},
   "outputs": [],
   "source": [
    "folder_path = \"C://Users//PC//Documents//GitHub//weather-prediction//resource\\weather_1217//\""
   ]
  },
  {
   "cell_type": "code",
   "execution_count": 7,
   "id": "39b0ff76",
   "metadata": {},
   "outputs": [],
   "source": [
    "# Import Data\n",
    "humidity = pd.read_csv(folder_path + \"humidity.csv\")\n",
    "temp = pd.read_csv(folder_path + \"temperature.csv\")\n",
    "pressure = pd.read_csv(folder_path + \"pressure.csv\")"
   ]
  },
  {
   "cell_type": "code",
   "execution_count": null,
   "id": "08930d38",
   "metadata": {},
   "outputs": [],
   "source": []
  }
 ],
 "metadata": {
  "kernelspec": {
   "display_name": "Python 3",
   "language": "python",
   "name": "python3"
  },
  "language_info": {
   "codemirror_mode": {
    "name": "ipython",
    "version": 3
   },
   "file_extension": ".py",
   "mimetype": "text/x-python",
   "name": "python",
   "nbconvert_exporter": "python",
   "pygments_lexer": "ipython3",
   "version": "3.11.8"
  }
 },
 "nbformat": 4,
 "nbformat_minor": 5
}
