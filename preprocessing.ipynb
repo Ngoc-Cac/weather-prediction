{
 "cells": [
  {
   "cell_type": "markdown",
   "id": "5f9aa8e6",
   "metadata": {},
   "source": [
    "# **Pre-processing**\n",
    "\n",
    "---"
   ]
  },
  {
   "cell_type": "markdown",
   "id": "b8378006",
   "metadata": {},
   "source": [
    "## **Import Libraries & Data Loading**"
   ]
  },
  {
   "cell_type": "code",
   "execution_count": 1,
   "id": "cf4e0807",
   "metadata": {},
   "outputs": [],
   "source": [
    "import pandas as pd\n",
    "import numpy as np\n",
    "import matplotlib.pyplot as plt\n",
    "\n",
    "import os.path as osp"
   ]
  },
  {
   "cell_type": "code",
   "execution_count": 2,
   "id": "c75de1aa",
   "metadata": {},
   "outputs": [],
   "source": [
    "data_folder = osp.join('.', 'dataset')"
   ]
  },
  {
   "cell_type": "code",
   "execution_count": 3,
   "id": "2828ca9d",
   "metadata": {},
   "outputs": [],
   "source": [
    "humidity_df = pd.read_csv(osp.join(data_folder, 'humidity.csv'))\n",
    "temp_df=pd.read_csv(osp.join(data_folder,'temperature.csv'))\n",
    "pressure_df = pd.read_csv(osp.join(data_folder, 'pressure.csv'))\n",
    "wind_direct_df = pd.read_csv(osp.join(data_folder, 'wind_direction.csv'))\n",
    "wind_speed_df = pd.read_csv(osp.join(data_folder,'wind_speed.csv'))"
   ]
  },
  {
   "cell_type": "code",
   "execution_count": 4,
   "id": "023e2108",
   "metadata": {},
   "outputs": [],
   "source": [
    "weather_descript_df = pd.read_csv(osp.join(data_folder,'weather_description.csv'))"
   ]
  },
  {
   "cell_type": "code",
   "execution_count": 5,
   "id": "7cbd9dad",
   "metadata": {},
   "outputs": [],
   "source": [
    "city_attri_df = pd.read_csv(osp.join(data_folder,'city_attributes.csv'))"
   ]
  },
  {
   "cell_type": "markdown",
   "id": "7ee26be6",
   "metadata": {},
   "source": [
    "## **Humidity**"
   ]
  },
  {
   "cell_type": "code",
   "execution_count": 6,
   "id": "08930d38",
   "metadata": {},
   "outputs": [
    {
     "name": "stdout",
     "output_type": "stream",
     "text": [
      "<class 'pandas.core.frame.DataFrame'>\n",
      "RangeIndex: 45253 entries, 0 to 45252\n",
      "Data columns (total 37 columns):\n",
      " #   Column             Non-Null Count  Dtype  \n",
      "---  ------             --------------  -----  \n",
      " 0   datetime           45253 non-null  object \n",
      " 1   Vancouver          43427 non-null  float64\n",
      " 2   Portland           44804 non-null  float64\n",
      " 3   San Francisco      44311 non-null  float64\n",
      " 4   Seattle            44964 non-null  float64\n",
      " 5   Los Angeles        45101 non-null  float64\n",
      " 6   San Diego          44909 non-null  float64\n",
      " 7   Las Vegas          44411 non-null  float64\n",
      " 8   Phoenix            43945 non-null  float64\n",
      " 9   Albuquerque        44543 non-null  float64\n",
      " 10  Denver             43445 non-null  float64\n",
      " 11  San Antonio        44689 non-null  float64\n",
      " 12  Dallas             44934 non-null  float64\n",
      " 13  Houston            45132 non-null  float64\n",
      " 14  Kansas City        44741 non-null  float64\n",
      " 15  Minneapolis        44743 non-null  float64\n",
      " 16  Saint Louis        43964 non-null  float64\n",
      " 17  Chicago            44144 non-null  float64\n",
      " 18  Nashville          44686 non-null  float64\n",
      " 19  Indianapolis       44558 non-null  float64\n",
      " 20  Atlanta            44831 non-null  float64\n",
      " 21  Detroit            44391 non-null  float64\n",
      " 22  Jacksonville       45044 non-null  float64\n",
      " 23  Charlotte          44664 non-null  float64\n",
      " 24  Miami              44166 non-null  float64\n",
      " 25  Pittsburgh         44731 non-null  float64\n",
      " 26  Toronto            44525 non-null  float64\n",
      " 27  Philadelphia       44629 non-null  float64\n",
      " 28  New York           43629 non-null  float64\n",
      " 29  Montreal           43557 non-null  float64\n",
      " 30  Boston             44804 non-null  float64\n",
      " 31  Beersheba          44394 non-null  float64\n",
      " 32  Tel Aviv District  44140 non-null  float64\n",
      " 33  Eilat              44283 non-null  float64\n",
      " 34  Haifa              44435 non-null  float64\n",
      " 35  Nahariyya          44436 non-null  float64\n",
      " 36  Jerusalem          44347 non-null  float64\n",
      "dtypes: float64(36), object(1)\n",
      "memory usage: 12.8+ MB\n"
     ]
    }
   ],
   "source": [
    "humidity_df.info()"
   ]
  },
  {
   "cell_type": "code",
   "execution_count": null,
   "id": "930069aa",
   "metadata": {},
   "outputs": [],
   "source": [
    "#date & time\n",
    "humidity_df['datetime'] = pd.to_datetime(humidity_df['datetime'])\n",
    "humidity_df['date'] = humidity_df['datetime'].dt.date\n",
    "humidity_df['time'] = humidity_df['datetime'].dt.time\n",
    "\n",
    "humidity_df.drop(columns=['datetime'], inplace=True)\n",
    "\n",
    "cols = ['date', 'time'] + [col for col in humidity_df.columns if col not in ['date', 'time']]\n",
    "humidity_df = humidity_df[cols]\n"
   ]
  },
  {
   "cell_type": "code",
   "execution_count": 8,
   "id": "d2e1f915",
   "metadata": {},
   "outputs": [
    {
     "data": {
      "application/vnd.microsoft.datawrangler.viewer.v0+json": {
       "columns": [
        {
         "name": "index",
         "rawType": "int64",
         "type": "integer"
        },
        {
         "name": "date",
         "rawType": "object",
         "type": "unknown"
        },
        {
         "name": "time",
         "rawType": "object",
         "type": "unknown"
        },
        {
         "name": "Vancouver",
         "rawType": "float64",
         "type": "float"
        },
        {
         "name": "Portland",
         "rawType": "float64",
         "type": "float"
        },
        {
         "name": "San Francisco",
         "rawType": "float64",
         "type": "float"
        },
        {
         "name": "Seattle",
         "rawType": "float64",
         "type": "float"
        },
        {
         "name": "Los Angeles",
         "rawType": "float64",
         "type": "float"
        },
        {
         "name": "San Diego",
         "rawType": "float64",
         "type": "float"
        },
        {
         "name": "Las Vegas",
         "rawType": "float64",
         "type": "float"
        },
        {
         "name": "Phoenix",
         "rawType": "float64",
         "type": "float"
        },
        {
         "name": "Albuquerque",
         "rawType": "float64",
         "type": "float"
        },
        {
         "name": "Denver",
         "rawType": "float64",
         "type": "float"
        },
        {
         "name": "San Antonio",
         "rawType": "float64",
         "type": "float"
        },
        {
         "name": "Dallas",
         "rawType": "float64",
         "type": "float"
        },
        {
         "name": "Houston",
         "rawType": "float64",
         "type": "float"
        },
        {
         "name": "Kansas City",
         "rawType": "float64",
         "type": "float"
        },
        {
         "name": "Minneapolis",
         "rawType": "float64",
         "type": "float"
        },
        {
         "name": "Saint Louis",
         "rawType": "float64",
         "type": "float"
        },
        {
         "name": "Chicago",
         "rawType": "float64",
         "type": "float"
        },
        {
         "name": "Nashville",
         "rawType": "float64",
         "type": "float"
        },
        {
         "name": "Indianapolis",
         "rawType": "float64",
         "type": "float"
        },
        {
         "name": "Atlanta",
         "rawType": "float64",
         "type": "float"
        },
        {
         "name": "Detroit",
         "rawType": "float64",
         "type": "float"
        },
        {
         "name": "Jacksonville",
         "rawType": "float64",
         "type": "float"
        },
        {
         "name": "Charlotte",
         "rawType": "float64",
         "type": "float"
        },
        {
         "name": "Miami",
         "rawType": "float64",
         "type": "float"
        },
        {
         "name": "Pittsburgh",
         "rawType": "float64",
         "type": "float"
        },
        {
         "name": "Toronto",
         "rawType": "float64",
         "type": "float"
        },
        {
         "name": "Philadelphia",
         "rawType": "float64",
         "type": "float"
        },
        {
         "name": "New York",
         "rawType": "float64",
         "type": "float"
        },
        {
         "name": "Montreal",
         "rawType": "float64",
         "type": "float"
        },
        {
         "name": "Boston",
         "rawType": "float64",
         "type": "float"
        },
        {
         "name": "Beersheba",
         "rawType": "float64",
         "type": "float"
        },
        {
         "name": "Tel Aviv District",
         "rawType": "float64",
         "type": "float"
        },
        {
         "name": "Eilat",
         "rawType": "float64",
         "type": "float"
        },
        {
         "name": "Haifa",
         "rawType": "float64",
         "type": "float"
        },
        {
         "name": "Nahariyya",
         "rawType": "float64",
         "type": "float"
        },
        {
         "name": "Jerusalem",
         "rawType": "float64",
         "type": "float"
        }
       ],
       "conversionMethod": "pd.DataFrame",
       "ref": "cc9336a5-2431-4594-accf-33205c63271b",
       "rows": [
        [
         "0",
         "2012-10-01",
         "12:00:00",
         null,
         null,
         null,
         null,
         null,
         null,
         null,
         null,
         null,
         null,
         null,
         null,
         null,
         null,
         null,
         null,
         null,
         null,
         null,
         null,
         null,
         null,
         null,
         null,
         null,
         null,
         null,
         null,
         null,
         null,
         null,
         null,
         "25.0",
         null,
         null,
         null
        ],
        [
         "1",
         "2012-10-01",
         "13:00:00",
         "76.0",
         "81.0",
         "88.0",
         "81.0",
         "88.0",
         "82.0",
         "22.0",
         "23.0",
         "50.0",
         "62.0",
         "93.0",
         "87.0",
         "93.0",
         "71.0",
         "67.0",
         "71.0",
         "71.0",
         "100.0",
         "76.0",
         "94.0",
         "76.0",
         "88.0",
         "87.0",
         "83.0",
         "93.0",
         "82.0",
         "71.0",
         "58.0",
         "93.0",
         "68.0",
         "50.0",
         "63.0",
         "22.0",
         "51.0",
         "51.0",
         "50.0"
        ],
        [
         "2",
         "2012-10-01",
         "14:00:00",
         "76.0",
         "80.0",
         "87.0",
         "80.0",
         "88.0",
         "81.0",
         "21.0",
         "23.0",
         "49.0",
         "62.0",
         "92.0",
         "86.0",
         "92.0",
         "70.0",
         "66.0",
         "71.0",
         "70.0",
         "99.0",
         "76.0",
         "94.0",
         "75.0",
         "87.0",
         "87.0",
         "82.0",
         "93.0",
         "81.0",
         "70.0",
         "57.0",
         "91.0",
         "68.0",
         "51.0",
         "62.0",
         "22.0",
         "51.0",
         "51.0",
         "50.0"
        ],
        [
         "3",
         "2012-10-01",
         "15:00:00",
         "76.0",
         "80.0",
         "86.0",
         "80.0",
         "88.0",
         "81.0",
         "21.0",
         "23.0",
         "49.0",
         "62.0",
         "92.0",
         "86.0",
         "90.0",
         "70.0",
         "66.0",
         "71.0",
         "70.0",
         "99.0",
         "76.0",
         "94.0",
         "75.0",
         "87.0",
         "87.0",
         "82.0",
         "93.0",
         "79.0",
         "70.0",
         "57.0",
         "87.0",
         "68.0",
         "51.0",
         "62.0",
         "22.0",
         "51.0",
         "51.0",
         "50.0"
        ],
        [
         "4",
         "2012-10-01",
         "16:00:00",
         "77.0",
         "80.0",
         "85.0",
         "79.0",
         "88.0",
         "81.0",
         "21.0",
         "23.0",
         "49.0",
         "62.0",
         "92.0",
         "86.0",
         "89.0",
         "70.0",
         "65.0",
         "71.0",
         "70.0",
         "99.0",
         "76.0",
         "94.0",
         "74.0",
         "87.0",
         "87.0",
         "82.0",
         "93.0",
         "77.0",
         "69.0",
         "57.0",
         "84.0",
         "68.0",
         "52.0",
         "62.0",
         "22.0",
         "51.0",
         "51.0",
         "50.0"
        ]
       ],
       "shape": {
        "columns": 38,
        "rows": 5
       }
      },
      "text/html": [
       "<div>\n",
       "<style scoped>\n",
       "    .dataframe tbody tr th:only-of-type {\n",
       "        vertical-align: middle;\n",
       "    }\n",
       "\n",
       "    .dataframe tbody tr th {\n",
       "        vertical-align: top;\n",
       "    }\n",
       "\n",
       "    .dataframe thead th {\n",
       "        text-align: right;\n",
       "    }\n",
       "</style>\n",
       "<table border=\"1\" class=\"dataframe\">\n",
       "  <thead>\n",
       "    <tr style=\"text-align: right;\">\n",
       "      <th></th>\n",
       "      <th>date</th>\n",
       "      <th>time</th>\n",
       "      <th>Vancouver</th>\n",
       "      <th>Portland</th>\n",
       "      <th>San Francisco</th>\n",
       "      <th>Seattle</th>\n",
       "      <th>Los Angeles</th>\n",
       "      <th>San Diego</th>\n",
       "      <th>Las Vegas</th>\n",
       "      <th>Phoenix</th>\n",
       "      <th>...</th>\n",
       "      <th>Philadelphia</th>\n",
       "      <th>New York</th>\n",
       "      <th>Montreal</th>\n",
       "      <th>Boston</th>\n",
       "      <th>Beersheba</th>\n",
       "      <th>Tel Aviv District</th>\n",
       "      <th>Eilat</th>\n",
       "      <th>Haifa</th>\n",
       "      <th>Nahariyya</th>\n",
       "      <th>Jerusalem</th>\n",
       "    </tr>\n",
       "  </thead>\n",
       "  <tbody>\n",
       "    <tr>\n",
       "      <th>0</th>\n",
       "      <td>2012-10-01</td>\n",
       "      <td>12:00:00</td>\n",
       "      <td>NaN</td>\n",
       "      <td>NaN</td>\n",
       "      <td>NaN</td>\n",
       "      <td>NaN</td>\n",
       "      <td>NaN</td>\n",
       "      <td>NaN</td>\n",
       "      <td>NaN</td>\n",
       "      <td>NaN</td>\n",
       "      <td>...</td>\n",
       "      <td>NaN</td>\n",
       "      <td>NaN</td>\n",
       "      <td>NaN</td>\n",
       "      <td>NaN</td>\n",
       "      <td>NaN</td>\n",
       "      <td>NaN</td>\n",
       "      <td>25.0</td>\n",
       "      <td>NaN</td>\n",
       "      <td>NaN</td>\n",
       "      <td>NaN</td>\n",
       "    </tr>\n",
       "    <tr>\n",
       "      <th>1</th>\n",
       "      <td>2012-10-01</td>\n",
       "      <td>13:00:00</td>\n",
       "      <td>76.0</td>\n",
       "      <td>81.0</td>\n",
       "      <td>88.0</td>\n",
       "      <td>81.0</td>\n",
       "      <td>88.0</td>\n",
       "      <td>82.0</td>\n",
       "      <td>22.0</td>\n",
       "      <td>23.0</td>\n",
       "      <td>...</td>\n",
       "      <td>71.0</td>\n",
       "      <td>58.0</td>\n",
       "      <td>93.0</td>\n",
       "      <td>68.0</td>\n",
       "      <td>50.0</td>\n",
       "      <td>63.0</td>\n",
       "      <td>22.0</td>\n",
       "      <td>51.0</td>\n",
       "      <td>51.0</td>\n",
       "      <td>50.0</td>\n",
       "    </tr>\n",
       "    <tr>\n",
       "      <th>2</th>\n",
       "      <td>2012-10-01</td>\n",
       "      <td>14:00:00</td>\n",
       "      <td>76.0</td>\n",
       "      <td>80.0</td>\n",
       "      <td>87.0</td>\n",
       "      <td>80.0</td>\n",
       "      <td>88.0</td>\n",
       "      <td>81.0</td>\n",
       "      <td>21.0</td>\n",
       "      <td>23.0</td>\n",
       "      <td>...</td>\n",
       "      <td>70.0</td>\n",
       "      <td>57.0</td>\n",
       "      <td>91.0</td>\n",
       "      <td>68.0</td>\n",
       "      <td>51.0</td>\n",
       "      <td>62.0</td>\n",
       "      <td>22.0</td>\n",
       "      <td>51.0</td>\n",
       "      <td>51.0</td>\n",
       "      <td>50.0</td>\n",
       "    </tr>\n",
       "    <tr>\n",
       "      <th>3</th>\n",
       "      <td>2012-10-01</td>\n",
       "      <td>15:00:00</td>\n",
       "      <td>76.0</td>\n",
       "      <td>80.0</td>\n",
       "      <td>86.0</td>\n",
       "      <td>80.0</td>\n",
       "      <td>88.0</td>\n",
       "      <td>81.0</td>\n",
       "      <td>21.0</td>\n",
       "      <td>23.0</td>\n",
       "      <td>...</td>\n",
       "      <td>70.0</td>\n",
       "      <td>57.0</td>\n",
       "      <td>87.0</td>\n",
       "      <td>68.0</td>\n",
       "      <td>51.0</td>\n",
       "      <td>62.0</td>\n",
       "      <td>22.0</td>\n",
       "      <td>51.0</td>\n",
       "      <td>51.0</td>\n",
       "      <td>50.0</td>\n",
       "    </tr>\n",
       "    <tr>\n",
       "      <th>4</th>\n",
       "      <td>2012-10-01</td>\n",
       "      <td>16:00:00</td>\n",
       "      <td>77.0</td>\n",
       "      <td>80.0</td>\n",
       "      <td>85.0</td>\n",
       "      <td>79.0</td>\n",
       "      <td>88.0</td>\n",
       "      <td>81.0</td>\n",
       "      <td>21.0</td>\n",
       "      <td>23.0</td>\n",
       "      <td>...</td>\n",
       "      <td>69.0</td>\n",
       "      <td>57.0</td>\n",
       "      <td>84.0</td>\n",
       "      <td>68.0</td>\n",
       "      <td>52.0</td>\n",
       "      <td>62.0</td>\n",
       "      <td>22.0</td>\n",
       "      <td>51.0</td>\n",
       "      <td>51.0</td>\n",
       "      <td>50.0</td>\n",
       "    </tr>\n",
       "  </tbody>\n",
       "</table>\n",
       "<p>5 rows × 38 columns</p>\n",
       "</div>"
      ],
      "text/plain": [
       "         date      time  Vancouver  Portland  San Francisco  Seattle  \\\n",
       "0  2012-10-01  12:00:00        NaN       NaN            NaN      NaN   \n",
       "1  2012-10-01  13:00:00       76.0      81.0           88.0     81.0   \n",
       "2  2012-10-01  14:00:00       76.0      80.0           87.0     80.0   \n",
       "3  2012-10-01  15:00:00       76.0      80.0           86.0     80.0   \n",
       "4  2012-10-01  16:00:00       77.0      80.0           85.0     79.0   \n",
       "\n",
       "   Los Angeles  San Diego  Las Vegas  Phoenix  ...  Philadelphia  New York  \\\n",
       "0          NaN        NaN        NaN      NaN  ...           NaN       NaN   \n",
       "1         88.0       82.0       22.0     23.0  ...          71.0      58.0   \n",
       "2         88.0       81.0       21.0     23.0  ...          70.0      57.0   \n",
       "3         88.0       81.0       21.0     23.0  ...          70.0      57.0   \n",
       "4         88.0       81.0       21.0     23.0  ...          69.0      57.0   \n",
       "\n",
       "   Montreal  Boston  Beersheba  Tel Aviv District  Eilat  Haifa  Nahariyya  \\\n",
       "0       NaN     NaN        NaN                NaN   25.0    NaN        NaN   \n",
       "1      93.0    68.0       50.0               63.0   22.0   51.0       51.0   \n",
       "2      91.0    68.0       51.0               62.0   22.0   51.0       51.0   \n",
       "3      87.0    68.0       51.0               62.0   22.0   51.0       51.0   \n",
       "4      84.0    68.0       52.0               62.0   22.0   51.0       51.0   \n",
       "\n",
       "   Jerusalem  \n",
       "0        NaN  \n",
       "1       50.0  \n",
       "2       50.0  \n",
       "3       50.0  \n",
       "4       50.0  \n",
       "\n",
       "[5 rows x 38 columns]"
      ]
     },
     "execution_count": 8,
     "metadata": {},
     "output_type": "execute_result"
    }
   ],
   "source": [
    "humidity_df.head()"
   ]
  },
  {
   "cell_type": "markdown",
   "id": "cc137b88",
   "metadata": {},
   "source": [
    "## **Pressure**"
   ]
  },
  {
   "cell_type": "code",
   "execution_count": 9,
   "id": "81690271",
   "metadata": {},
   "outputs": [
    {
     "name": "stdout",
     "output_type": "stream",
     "text": [
      "<class 'pandas.core.frame.DataFrame'>\n",
      "RangeIndex: 45253 entries, 0 to 45252\n",
      "Data columns (total 37 columns):\n",
      " #   Column             Non-Null Count  Dtype  \n",
      "---  ------             --------------  -----  \n",
      " 0   datetime           45253 non-null  object \n",
      " 1   Vancouver          41019 non-null  float64\n",
      " 2   Portland           45249 non-null  float64\n",
      " 3   San Francisco      44438 non-null  float64\n",
      " 4   Seattle            45240 non-null  float64\n",
      " 5   Los Angeles        45001 non-null  float64\n",
      " 6   San Diego          45078 non-null  float64\n",
      " 7   Las Vegas          45165 non-null  float64\n",
      " 8   Phoenix            44659 non-null  float64\n",
      " 9   Albuquerque        44797 non-null  float64\n",
      " 10  Denver             44710 non-null  float64\n",
      " 11  San Antonio        45236 non-null  float64\n",
      " 12  Dallas             45193 non-null  float64\n",
      " 13  Houston            45244 non-null  float64\n",
      " 14  Kansas City        45132 non-null  float64\n",
      " 15  Minneapolis        45236 non-null  float64\n",
      " 16  Saint Louis        45185 non-null  float64\n",
      " 17  Chicago            44528 non-null  float64\n",
      " 18  Nashville          45106 non-null  float64\n",
      " 19  Indianapolis       44964 non-null  float64\n",
      " 20  Atlanta            45204 non-null  float64\n",
      " 21  Detroit            45248 non-null  float64\n",
      " 22  Jacksonville       45238 non-null  float64\n",
      " 23  Charlotte          45250 non-null  float64\n",
      " 24  Miami              44459 non-null  float64\n",
      " 25  Pittsburgh         45207 non-null  float64\n",
      " 26  Toronto            45078 non-null  float64\n",
      " 27  Philadelphia       45249 non-null  float64\n",
      " 28  New York           44212 non-null  float64\n",
      " 29  Montreal           44259 non-null  float64\n",
      " 30  Boston             45246 non-null  float64\n",
      " 31  Beersheba          44447 non-null  float64\n",
      " 32  Tel Aviv District  44323 non-null  float64\n",
      " 33  Eilat              44461 non-null  float64\n",
      " 34  Haifa              44455 non-null  float64\n",
      " 35  Nahariyya          44458 non-null  float64\n",
      " 36  Jerusalem          44454 non-null  float64\n",
      "dtypes: float64(36), object(1)\n",
      "memory usage: 12.8+ MB\n"
     ]
    }
   ],
   "source": [
    "pressure_df.info()"
   ]
  },
  {
   "cell_type": "code",
   "execution_count": 10,
   "id": "d0cdb55d",
   "metadata": {},
   "outputs": [],
   "source": [
    "#date & time\n",
    "pressure_df['datetime'] = pd.to_datetime(pressure_df['datetime'])\n",
    "pressure_df['date'] = pressure_df['datetime'].dt.date\n",
    "pressure_df['time'] = pressure_df['datetime'].dt.time\n",
    "\n",
    "pressure_df.drop(columns=['datetime'], inplace=True)\n",
    "\n",
    "cols = ['date', 'time'] + [col for col in pressure_df.columns if col not in ['date', 'time']]\n",
    "pressure_df = pressure_df[cols]\n"
   ]
  },
  {
   "cell_type": "markdown",
   "id": "31a5705a",
   "metadata": {},
   "source": [
    "## **Temperature**"
   ]
  },
  {
   "cell_type": "code",
   "execution_count": 11,
   "id": "7fa8ecc1",
   "metadata": {},
   "outputs": [
    {
     "name": "stdout",
     "output_type": "stream",
     "text": [
      "<class 'pandas.core.frame.DataFrame'>\n",
      "RangeIndex: 45253 entries, 0 to 45252\n",
      "Data columns (total 37 columns):\n",
      " #   Column             Non-Null Count  Dtype  \n",
      "---  ------             --------------  -----  \n",
      " 0   datetime           45253 non-null  object \n",
      " 1   Vancouver          44458 non-null  float64\n",
      " 2   Portland           45252 non-null  float64\n",
      " 3   San Francisco      44460 non-null  float64\n",
      " 4   Seattle            45250 non-null  float64\n",
      " 5   Los Angeles        45250 non-null  float64\n",
      " 6   San Diego          45252 non-null  float64\n",
      " 7   Las Vegas          45252 non-null  float64\n",
      " 8   Phoenix            45250 non-null  float64\n",
      " 9   Albuquerque        45252 non-null  float64\n",
      " 10  Denver             45252 non-null  float64\n",
      " 11  San Antonio        45252 non-null  float64\n",
      " 12  Dallas             45249 non-null  float64\n",
      " 13  Houston            45250 non-null  float64\n",
      " 14  Kansas City        45252 non-null  float64\n",
      " 15  Minneapolis        45240 non-null  float64\n",
      " 16  Saint Louis        45252 non-null  float64\n",
      " 17  Chicago            45250 non-null  float64\n",
      " 18  Nashville          45251 non-null  float64\n",
      " 19  Indianapolis       45246 non-null  float64\n",
      " 20  Atlanta            45247 non-null  float64\n",
      " 21  Detroit            45252 non-null  float64\n",
      " 22  Jacksonville       45252 non-null  float64\n",
      " 23  Charlotte          45250 non-null  float64\n",
      " 24  Miami              44448 non-null  float64\n",
      " 25  Pittsburgh         45250 non-null  float64\n",
      " 26  Toronto            45252 non-null  float64\n",
      " 27  Philadelphia       45250 non-null  float64\n",
      " 28  New York           44460 non-null  float64\n",
      " 29  Montreal           45250 non-null  float64\n",
      " 30  Boston             45250 non-null  float64\n",
      " 31  Beersheba          44455 non-null  float64\n",
      " 32  Tel Aviv District  44460 non-null  float64\n",
      " 33  Eilat              44461 non-null  float64\n",
      " 34  Haifa              44455 non-null  float64\n",
      " 35  Nahariyya          44456 non-null  float64\n",
      " 36  Jerusalem          44460 non-null  float64\n",
      "dtypes: float64(36), object(1)\n",
      "memory usage: 12.8+ MB\n"
     ]
    }
   ],
   "source": [
    "temp_df.info()"
   ]
  },
  {
   "cell_type": "code",
   "execution_count": 12,
   "id": "045ae3df",
   "metadata": {},
   "outputs": [],
   "source": [
    "#date & time\n",
    "temp_df['datetime'] = pd.to_datetime(temp_df['datetime'])\n",
    "temp_df['date'] = temp_df['datetime'].dt.date\n",
    "temp_df['time'] = temp_df['datetime'].dt.time\n",
    "\n",
    "temp_df.drop(columns=['datetime'], inplace=True)\n",
    "\n",
    "cols = ['date', 'time'] + [col for col in temp_df.columns if col not in ['date', 'time']]\n",
    "temp_df = temp_df[cols]\n"
   ]
  },
  {
   "cell_type": "markdown",
   "id": "7434784b",
   "metadata": {},
   "source": [
    "## **Wind Direction**"
   ]
  },
  {
   "cell_type": "code",
   "execution_count": 15,
   "id": "76c24d6f",
   "metadata": {},
   "outputs": [
    {
     "name": "stdout",
     "output_type": "stream",
     "text": [
      "<class 'pandas.core.frame.DataFrame'>\n",
      "RangeIndex: 45253 entries, 0 to 45252\n",
      "Data columns (total 37 columns):\n",
      " #   Column             Non-Null Count  Dtype  \n",
      "---  ------             --------------  -----  \n",
      " 0   datetime           45253 non-null  object \n",
      " 1   Vancouver          44458 non-null  float64\n",
      " 2   Portland           45252 non-null  float64\n",
      " 3   San Francisco      44459 non-null  float64\n",
      " 4   Seattle            45252 non-null  float64\n",
      " 5   Los Angeles        45252 non-null  float64\n",
      " 6   San Diego          45252 non-null  float64\n",
      " 7   Las Vegas          45248 non-null  float64\n",
      " 8   Phoenix            45252 non-null  float64\n",
      " 9   Albuquerque        45252 non-null  float64\n",
      " 10  Denver             45252 non-null  float64\n",
      " 11  San Antonio        45252 non-null  float64\n",
      " 12  Dallas             45252 non-null  float64\n",
      " 13  Houston            45251 non-null  float64\n",
      " 14  Kansas City        45252 non-null  float64\n",
      " 15  Minneapolis        45252 non-null  float64\n",
      " 16  Saint Louis        45252 non-null  float64\n",
      " 17  Chicago            45252 non-null  float64\n",
      " 18  Nashville          45251 non-null  float64\n",
      " 19  Indianapolis       45252 non-null  float64\n",
      " 20  Atlanta            45252 non-null  float64\n",
      " 21  Detroit            45252 non-null  float64\n",
      " 22  Jacksonville       45248 non-null  float64\n",
      " 23  Charlotte          45252 non-null  float64\n",
      " 24  Miami              44458 non-null  float64\n",
      " 25  Pittsburgh         45252 non-null  float64\n",
      " 26  Toronto            45252 non-null  float64\n",
      " 27  Philadelphia       45252 non-null  float64\n",
      " 28  New York           44460 non-null  float64\n",
      " 29  Montreal           45252 non-null  float64\n",
      " 30  Boston             45252 non-null  float64\n",
      " 31  Beersheba          44460 non-null  float64\n",
      " 32  Tel Aviv District  44460 non-null  float64\n",
      " 33  Eilat              44456 non-null  float64\n",
      " 34  Haifa              44460 non-null  float64\n",
      " 35  Nahariyya          44460 non-null  float64\n",
      " 36  Jerusalem          44460 non-null  float64\n",
      "dtypes: float64(36), object(1)\n",
      "memory usage: 12.8+ MB\n"
     ]
    }
   ],
   "source": [
    "wind_direct_df.info()"
   ]
  },
  {
   "cell_type": "code",
   "execution_count": 16,
   "id": "c913cd50",
   "metadata": {},
   "outputs": [],
   "source": [
    "#date & time\n",
    "wind_direct_df['datetime'] = pd.to_datetime(wind_direct_df['datetime'])\n",
    "wind_direct_df['date'] = wind_direct_df['datetime'].dt.date\n",
    "wind_direct_df['time'] = wind_direct_df['datetime'].dt.time\n",
    "\n",
    "wind_direct_df.drop(columns=['datetime'], inplace=True)\n",
    "\n",
    "cols = ['date', 'time'] + [col for col in wind_direct_df.columns if col not in ['date', 'time']]\n",
    "wind_direct_df = wind_direct_df[cols]\n"
   ]
  },
  {
   "cell_type": "markdown",
   "id": "b1ceac69",
   "metadata": {},
   "source": [
    "## **Wind Speed**"
   ]
  },
  {
   "cell_type": "code",
   "execution_count": 17,
   "id": "e8f22067",
   "metadata": {},
   "outputs": [
    {
     "name": "stdout",
     "output_type": "stream",
     "text": [
      "<class 'pandas.core.frame.DataFrame'>\n",
      "RangeIndex: 45253 entries, 0 to 45252\n",
      "Data columns (total 37 columns):\n",
      " #   Column             Non-Null Count  Dtype  \n",
      "---  ------             --------------  -----  \n",
      " 0   datetime           45253 non-null  object \n",
      " 1   Vancouver          44458 non-null  float64\n",
      " 2   Portland           45252 non-null  float64\n",
      " 3   San Francisco      44459 non-null  float64\n",
      " 4   Seattle            45252 non-null  float64\n",
      " 5   Los Angeles        45252 non-null  float64\n",
      " 6   San Diego          45252 non-null  float64\n",
      " 7   Las Vegas          45238 non-null  float64\n",
      " 8   Phoenix            45251 non-null  float64\n",
      " 9   Albuquerque        45249 non-null  float64\n",
      " 10  Denver             45251 non-null  float64\n",
      " 11  San Antonio        45252 non-null  float64\n",
      " 12  Dallas             45251 non-null  float64\n",
      " 13  Houston            45250 non-null  float64\n",
      " 14  Kansas City        45252 non-null  float64\n",
      " 15  Minneapolis        45250 non-null  float64\n",
      " 16  Saint Louis        45252 non-null  float64\n",
      " 17  Chicago            45252 non-null  float64\n",
      " 18  Nashville          45250 non-null  float64\n",
      " 19  Indianapolis       45252 non-null  float64\n",
      " 20  Atlanta            45252 non-null  float64\n",
      " 21  Detroit            45252 non-null  float64\n",
      " 22  Jacksonville       45252 non-null  float64\n",
      " 23  Charlotte          45251 non-null  float64\n",
      " 24  Miami              44458 non-null  float64\n",
      " 25  Pittsburgh         45252 non-null  float64\n",
      " 26  Toronto            45252 non-null  float64\n",
      " 27  Philadelphia       45251 non-null  float64\n",
      " 28  New York           44460 non-null  float64\n",
      " 29  Montreal           45252 non-null  float64\n",
      " 30  Boston             45252 non-null  float64\n",
      " 31  Beersheba          44460 non-null  float64\n",
      " 32  Tel Aviv District  44459 non-null  float64\n",
      " 33  Eilat              44461 non-null  float64\n",
      " 34  Haifa              44458 non-null  float64\n",
      " 35  Nahariyya          44459 non-null  float64\n",
      " 36  Jerusalem          44459 non-null  float64\n",
      "dtypes: float64(36), object(1)\n",
      "memory usage: 12.8+ MB\n"
     ]
    }
   ],
   "source": [
    "wind_speed_df.info()"
   ]
  },
  {
   "cell_type": "code",
   "execution_count": 18,
   "id": "51ed57e4",
   "metadata": {},
   "outputs": [],
   "source": [
    "#date & time\n",
    "wind_speed_df['datetime'] = pd.to_datetime(wind_speed_df['datetime'])\n",
    "wind_speed_df['date'] = wind_speed_df['datetime'].dt.date\n",
    "wind_speed_df['time'] = wind_speed_df['datetime'].dt.time\n",
    "\n",
    "wind_speed_df.drop(columns=['datetime'], inplace=True)\n",
    "\n",
    "cols = ['date', 'time'] + [col for col in wind_speed_df.columns if col not in ['date', 'time']]\n",
    "wind_speed_df = wind_speed_df[cols]\n"
   ]
  },
  {
   "cell_type": "code",
   "execution_count": null,
   "id": "386d8f8f",
   "metadata": {},
   "outputs": [],
   "source": []
  }
 ],
 "metadata": {
  "kernelspec": {
   "display_name": "Python 3",
   "language": "python",
   "name": "python3"
  },
  "language_info": {
   "codemirror_mode": {
    "name": "ipython",
    "version": 3
   },
   "file_extension": ".py",
   "mimetype": "text/x-python",
   "name": "python",
   "nbconvert_exporter": "python",
   "pygments_lexer": "ipython3",
   "version": "3.11.8"
  }
 },
 "nbformat": 4,
 "nbformat_minor": 5
}
